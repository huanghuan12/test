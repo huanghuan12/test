{
 "cells": [
  {
   "cell_type": "code",
   "execution_count": 199,
   "metadata": {},
   "outputs": [],
   "source": [
    "import pandas as pd\n",
    "import json\n",
    "import re\n",
    "import numpy as np\n",
    "\n",
    "from sklearn.feature_extraction.text import TfidfVectorizer, CountVectorizer\n",
    "from sklearn.decomposition import LatentDirichletAllocation\n",
    "from sklearn.decomposition import TruncatedSVD\n",
    "from sklearn.decomposition import PCA\n",
    "from ltp import LTP\n",
    "import jieba\n",
    "\n",
    "\n",
    "import matplotlib.pyplot as plt\n",
    "%matplotlib inline\n",
    "\n",
    "import warnings\n",
    "warnings.filterwarnings(\"ignore\")"
   ]
  },
  {
   "cell_type": "code",
   "execution_count": 6,
   "metadata": {},
   "outputs": [],
   "source": [
    "jieba.load_userdict(r\"./userdict.txt\")\n",
    "ltp = LTP()"
   ]
  },
  {
   "cell_type": "markdown",
   "metadata": {},
   "source": [
    "### Import data and data preprocessing"
   ]
  },
  {
   "cell_type": "code",
   "execution_count": 139,
   "metadata": {},
   "outputs": [],
   "source": [
    "def str_preparsing(input_str):\n",
    "    # 删除html tags\n",
    "    out = re.sub(\"https*\\S+/\", \"\", input_str)\n",
    "    out = re.sub(\"<[^>]*>\", \"\", out)\n",
    "    \n",
    "    # 删除数字\n",
    "    punc = u'0123456789.'\n",
    "    out = re.sub(r'[{}]+'.format(punc), '', out)\n",
    "    \n",
    "    # 删除空格\n",
    "    out = re.sub(r'[\\s\\t]','',out)\n",
    "    return out"
   ]
  },
  {
   "cell_type": "code",
   "execution_count": 140,
   "metadata": {},
   "outputs": [],
   "source": [
    "with open(r\"./mergeAll.txt\",encoding='utf-8') as f:\n",
    "    data = json.loads(f.readline())\n",
    "\n",
    "res = []\n",
    "for k in data:\n",
    "    for m in k[2]:\n",
    "        res.append(str_preparsing(m['content']))"
   ]
  },
  {
   "cell_type": "code",
   "execution_count": 141,
   "metadata": {},
   "outputs": [],
   "source": [
    "df = pd.DataFrame(res, columns=['content']) \n",
    "df.drop_duplicates(subset=['content'],keep='first',inplace=True)\n",
    "\n",
    "df['match_key']=df['content'].str.contains('Nike|耐克|nike|NIKE' and '销量|年报|股票|财报|战略|裁员|亏损|盈利|营收|转型')\n",
    "df=df.loc[df['match_key']==True]"
   ]
  },
  {
   "cell_type": "code",
   "execution_count": 142,
   "metadata": {},
   "outputs": [],
   "source": [
    "df['len']=df.content.str.len()"
   ]
  },
  {
   "cell_type": "code",
   "execution_count": 143,
   "metadata": {},
   "outputs": [
    {
     "data": {
      "text/html": [
       "<div>\n",
       "<style scoped>\n",
       "    .dataframe tbody tr th:only-of-type {\n",
       "        vertical-align: middle;\n",
       "    }\n",
       "\n",
       "    .dataframe tbody tr th {\n",
       "        vertical-align: top;\n",
       "    }\n",
       "\n",
       "    .dataframe thead th {\n",
       "        text-align: right;\n",
       "    }\n",
       "</style>\n",
       "<table border=\"1\" class=\"dataframe\">\n",
       "  <thead>\n",
       "    <tr style=\"text-align: right;\">\n",
       "      <th></th>\n",
       "      <th>content</th>\n",
       "      <th>match_key</th>\n",
       "      <th>len</th>\n",
       "    </tr>\n",
       "  </thead>\n",
       "  <tbody>\n",
       "    <tr>\n",
       "      <th>0</th>\n",
       "      <td>#时尚##股票#《今日美国》根据研究报告以及对华尔街股票分析师的采访汇总了年的只将继续上涨的...</td>\n",
       "      <td>True</td>\n",
       "      <td>154</td>\n",
       "    </tr>\n",
       "    <tr>\n",
       "      <th>1</th>\n",
       "      <td>原标题：快报|Nike成华尔街分析师最看好的时尚类股票；Guess发布全新五年战略计划；佐丹...</td>\n",
       "      <td>True</td>\n",
       "      <td>1071</td>\n",
       "    </tr>\n",
       "    <tr>\n",
       "      <th>2</th>\n",
       "      <td>王鹤棣上脚Nikefearofgod，上帝灰配色质感十足！这双nike和fog的联名因为不错...</td>\n",
       "      <td>True</td>\n",
       "      <td>345</td>\n",
       "    </tr>\n",
       "    <tr>\n",
       "      <th>3</th>\n",
       "      <td>【CPS中安网cpscomcn】月日，\"世茂集团获奖战略供应商大会\"在上海举行，作为世茂集团...</td>\n",
       "      <td>True</td>\n",
       "      <td>958</td>\n",
       "    </tr>\n",
       "    <tr>\n",
       "      <th>4</th>\n",
       "      <td>【CPS中安网cpscomcn】近日，由全联房地产商会主办的\"中国房地产产业链年度盛典\"在北...</td>\n",
       "      <td>True</td>\n",
       "      <td>1072</td>\n",
       "    </tr>\n",
       "  </tbody>\n",
       "</table>\n",
       "</div>"
      ],
      "text/plain": [
       "                                             content  match_key   len\n",
       "0  #时尚##股票#《今日美国》根据研究报告以及对华尔街股票分析师的采访汇总了年的只将继续上涨的...       True   154\n",
       "1  原标题：快报|Nike成华尔街分析师最看好的时尚类股票；Guess发布全新五年战略计划；佐丹...       True  1071\n",
       "2  王鹤棣上脚Nikefearofgod，上帝灰配色质感十足！这双nike和fog的联名因为不错...       True   345\n",
       "3  【CPS中安网cpscomcn】月日，\"世茂集团获奖战略供应商大会\"在上海举行，作为世茂集团...       True   958\n",
       "4  【CPS中安网cpscomcn】近日，由全联房地产商会主办的\"中国房地产产业链年度盛典\"在北...       True  1072"
      ]
     },
     "execution_count": 143,
     "metadata": {},
     "output_type": "execute_result"
    }
   ],
   "source": [
    "df.head()"
   ]
  },
  {
   "cell_type": "code",
   "execution_count": 178,
   "metadata": {},
   "outputs": [
    {
     "data": {
      "text/plain": [
       "array([[<matplotlib.axes._subplots.AxesSubplot object at 0x13f9b5eb8>]],\n",
       "      dtype=object)"
      ]
     },
     "execution_count": 178,
     "metadata": {},
     "output_type": "execute_result"
    },
    {
     "data": {
      "image/png": "[encoded data removed]",
      "text/plain": [
       "<Figure size 432x288 with 1 Axes>"
      ]
     },
     "metadata": {
      "needs_background": "light"
     },
     "output_type": "display_data"
    }
   ],
   "source": [
    "df['len']=df.content.str.len()\n",
    "df.hist(column='len', bins=100)"
   ]
  },
  {
   "cell_type": "code",
   "execution_count": 144,
   "metadata": {},
   "outputs": [
    {
     "data": {
      "text/plain": [
       "(845, 3)"
      ]
     },
     "execution_count": 144,
     "metadata": {},
     "output_type": "execute_result"
    }
   ],
   "source": [
    "df.shape"
   ]
  },
  {
   "cell_type": "markdown",
   "metadata": {},
   "source": [
    "### Text Preparsing"
   ]
  },
  {
   "cell_type": "code",
   "execution_count": 174,
   "metadata": {},
   "outputs": [],
   "source": [
    "# 分句 / 分词 两种不同包都可以用\n",
    "def jieba_wordsep(corpus):\n",
    "    word_sep = jieba.lcut(corpus.strip())\n",
    "    return word_sep\n",
    "\n",
    "def ltp_wordsep(corpus):\n",
    "    word_sep, hidden = ltp.seg(ltp.sent_split([corpus]))\n",
    "    return sum(word_sep,[])\n",
    "\n",
    "\n",
    "# 去停用词\n",
    "def move_stopwords(doc, stopwords_file, encoding = 'UTF-8'):\n",
    "    stopwords = set([line.strip() for line in open(stopwords_file,encoding=encoding).readlines()])\n",
    "    out_list = []\n",
    "    for word in doc:\n",
    "        if word not in stopwords:\n",
    "            out_list.append(word)\n",
    "    return out_list\n",
    "\n",
    "def get_wordcut(corpus, text_out = True):\n",
    "    doc = jieba_wordsep(corpus)\n",
    "    word_cut = move_stopwords(doc, r'./stoplist.txt')\n",
    "    if text_out:\n",
    "        return ' '.join(word_cut)\n",
    "    else:\n",
    "        return word_cut"
   ]
  },
  {
   "cell_type": "code",
   "execution_count": 175,
   "metadata": {},
   "outputs": [
    {
     "name": "stdout",
     "output_type": "stream",
     "text": [
      "蒙口/最近/的/新衣/真是/越来越/好看/了/！/鞋子/也/不/例外/，/其/运动/机能/远超/阿迪/耐克/成为/鞋界/的/“/销量/王/”\n",
      "蒙口/最近/的/新衣/真是/越来越/好看/了/！/鞋子/也/不/例外/，/其/运动机能/远超/阿迪耐克/成为/鞋界/的/“/销量王/”\n"
     ]
    }
   ],
   "source": [
    "# example\n",
    "ex = df.content.values[7]\n",
    "out1 = jieba_wordsep(ex)\n",
    "out2 = ltp_wordsep(ex)\n",
    "print('/'.join(out1))\n",
    "print('/'.join(out2))"
   ]
  },
  {
   "cell_type": "code",
   "execution_count": 176,
   "metadata": {},
   "outputs": [],
   "source": [
    "df[\"content_cutted\"] = df.content.apply(get_wordcut)"
   ]
  },
  {
   "cell_type": "code",
   "execution_count": 179,
   "metadata": {},
   "outputs": [
    {
     "data": {
      "text/html": [
       "<div>\n",
       "<style scoped>\n",
       "    .dataframe tbody tr th:only-of-type {\n",
       "        vertical-align: middle;\n",
       "    }\n",
       "\n",
       "    .dataframe tbody tr th {\n",
       "        vertical-align: top;\n",
       "    }\n",
       "\n",
       "    .dataframe thead th {\n",
       "        text-align: right;\n",
       "    }\n",
       "</style>\n",
       "<table border=\"1\" class=\"dataframe\">\n",
       "  <thead>\n",
       "    <tr style=\"text-align: right;\">\n",
       "      <th></th>\n",
       "      <th>content</th>\n",
       "      <th>match_key</th>\n",
       "      <th>len</th>\n",
       "      <th>content_cutted</th>\n",
       "    </tr>\n",
       "  </thead>\n",
       "  <tbody>\n",
       "    <tr>\n",
       "      <th>0</th>\n",
       "      <td>#时尚##股票#《今日美国》根据研究报告以及对华尔街股票分析师的采访汇总了年的只将继续上涨的...</td>\n",
       "      <td>True</td>\n",
       "      <td>154</td>\n",
       "      <td>时尚 股票 今日美国 研究报告 华尔街 股票 分析师 采访 汇总 上涨 股票 科技 巨头 苹...</td>\n",
       "    </tr>\n",
       "    <tr>\n",
       "      <th>1</th>\n",
       "      <td>原标题：快报|Nike成华尔街分析师最看好的时尚类股票；Guess发布全新五年战略计划；佐丹...</td>\n",
       "      <td>True</td>\n",
       "      <td>1071</td>\n",
       "      <td>Nike 华尔街分析师 看好 时尚 类股票 Guess 发布 全新 五年 战略 计划 佐丹奴...</td>\n",
       "    </tr>\n",
       "    <tr>\n",
       "      <th>2</th>\n",
       "      <td>王鹤棣上脚Nikefearofgod，上帝灰配色质感十足！这双nike和fog的联名因为不错...</td>\n",
       "      <td>True</td>\n",
       "      <td>345</td>\n",
       "      <td>上帝灰 配色 质感 十足 这双 nike fog 联名 不错 颜值 质感 高 销量 发售 之...</td>\n",
       "    </tr>\n",
       "    <tr>\n",
       "      <th>3</th>\n",
       "      <td>【CPS中安网cpscomcn】月日，\"世茂集团获奖战略供应商大会\"在上海举行，作为世茂集团...</td>\n",
       "      <td>True</td>\n",
       "      <td>958</td>\n",
       "      <td>世茂集团 获奖 战略 供应商 大会 上海 世茂集团 携手 战略 合作伙伴 狄耐克 应邀 与会...</td>\n",
       "    </tr>\n",
       "    <tr>\n",
       "      <th>4</th>\n",
       "      <td>【CPS中安网cpscomcn】近日，由全联房地产商会主办的\"中国房地产产业链年度盛典\"在北...</td>\n",
       "      <td>True</td>\n",
       "      <td>1072</td>\n",
       "      <td>全联房地产商会 主办 中国 房地产 产业链 年度 盛典 北京 隆重召开 狄耐克 副总经理 侯...</td>\n",
       "    </tr>\n",
       "  </tbody>\n",
       "</table>\n",
       "</div>"
      ],
      "text/plain": [
       "                                             content  match_key   len  \\\n",
       "0  #时尚##股票#《今日美国》根据研究报告以及对华尔街股票分析师的采访汇总了年的只将继续上涨的...       True   154   \n",
       "1  原标题：快报|Nike成华尔街分析师最看好的时尚类股票；Guess发布全新五年战略计划；佐丹...       True  1071   \n",
       "2  王鹤棣上脚Nikefearofgod，上帝灰配色质感十足！这双nike和fog的联名因为不错...       True   345   \n",
       "3  【CPS中安网cpscomcn】月日，\"世茂集团获奖战略供应商大会\"在上海举行，作为世茂集团...       True   958   \n",
       "4  【CPS中安网cpscomcn】近日，由全联房地产商会主办的\"中国房地产产业链年度盛典\"在北...       True  1072   \n",
       "\n",
       "                                      content_cutted  \n",
       "0  时尚 股票 今日美国 研究报告 华尔街 股票 分析师 采访 汇总 上涨 股票 科技 巨头 苹...  \n",
       "1  Nike 华尔街分析师 看好 时尚 类股票 Guess 发布 全新 五年 战略 计划 佐丹奴...  \n",
       "2  上帝灰 配色 质感 十足 这双 nike fog 联名 不错 颜值 质感 高 销量 发售 之...  \n",
       "3  世茂集团 获奖 战略 供应商 大会 上海 世茂集团 携手 战略 合作伙伴 狄耐克 应邀 与会...  \n",
       "4  全联房地产商会 主办 中国 房地产 产业链 年度 盛典 北京 隆重召开 狄耐克 副总经理 侯...  "
      ]
     },
     "execution_count": 179,
     "metadata": {},
     "output_type": "execute_result"
    }
   ],
   "source": [
    "df.head()"
   ]
  },
  {
   "cell_type": "markdown",
   "metadata": {},
   "source": [
    "### 文本向量化"
   ]
  },
  {
   "cell_type": "code",
   "execution_count": 220,
   "metadata": {},
   "outputs": [],
   "source": [
    "# count_vectorizer\n",
    "n_features = 1000\n",
    "cv_model = CountVectorizer(strip_accents = 'unicode',max_features=n_features, max_df = 0.6)\n",
    "cv_vect = cv_model.fit_transform(df.content_cutted)"
   ]
  },
  {
   "cell_type": "code",
   "execution_count": 181,
   "metadata": {},
   "outputs": [],
   "source": [
    "# Tf-Idf\n",
    "tfidf_model = TfidfVectorizer(max_features=n_features,analyzer='word',token_pattern=r\"(?u)\\b\\w+\\b\", max_df=.6)\n",
    "tfidf_vect = tfidf_model.fit_transform(df.content_cutted)"
   ]
  },
  {
   "cell_type": "code",
   "execution_count": null,
   "metadata": {},
   "outputs": [],
   "source": [
    "# 基于上下文生成对应向量"
   ]
  },
  {
   "cell_type": "code",
   "execution_count": 197,
   "metadata": {},
   "outputs": [],
   "source": [
    "def distinct_words(corpus):\n",
    "    corp = [y for x in corpus for y in x]\n",
    "    corpus_words = sorted(list(set(corp)))\n",
    "    n_corpus_words = len(corpus_words)\n",
    "\n",
    "    return corpus_words, n_corpus_words\n",
    "\n",
    "def get_cooccur_word(word, text, window_size, upper = []):\n",
    "    if word in text:\n",
    "        idx = text.index(word)\n",
    "        out = upper.copy()\n",
    "        out.extend(text[idx + 1:idx + window_size + 1])\n",
    "        return get_cooccur_word(word, text[idx+1:], window_size, upper = out)\n",
    "    else:\n",
    "        return upper\n",
    "    \n",
    "def compute_co_occurrence_matrix(corpus, window_size=4):\n",
    "    words, n_words = distinct_words(corpus)\n",
    "    M = []\n",
    "    word2ind = {}\n",
    "    \n",
    "    for idx, word in enumerate(words):\n",
    "        word2ind[word] = idx\n",
    "    for word, idx in word2ind.items():\n",
    "        curr_L = [0]*n_words\n",
    "        curr_corp = []\n",
    "        for text in corpus:\n",
    "            curr_corp.append(get_cooccur_word(word, text, window_size))\n",
    "            text.reverse()\n",
    "            curr_corp.append(get_cooccur_word(word, text, window_size))\n",
    "        curr_corp = [v for v in curr_corp if len(v)>0]\n",
    "        cooccur_words, _ = distinct_words(curr_corp)\n",
    "        for c in cooccur_words:\n",
    "            curr_L[word2ind[c]] = 1\n",
    "        M.append(curr_L)\n",
    "    M = np.array(M)\n",
    "\n",
    "    return M, word2ind\n",
    "\n",
    "def reduce_to_k_dim(M, k=2):\n",
    "    n_iters = 10\n",
    "    M_reduced = None\n",
    "    print(\"Running Truncated SVD over %i words...\" % (M.shape[0]))\n",
    "    \n",
    "    svd = TruncatedSVD(n_components=k, n_iter=n_iters)\n",
    "    M_reduced = svd.fit_transform(M)\n",
    "\n",
    "    print(\"Done.\")\n",
    "    return M_reduced"
   ]
  },
  {
   "cell_type": "code",
   "execution_count": 191,
   "metadata": {},
   "outputs": [],
   "source": [
    "corpus = []\n",
    "for text in df.content:\n",
    "    corpus.append(get_wordcut(text, text_out = False))"
   ]
  },
  {
   "cell_type": "code",
   "execution_count": 200,
   "metadata": {},
   "outputs": [
    {
     "name": "stdout",
     "output_type": "stream",
     "text": [
      "Running Truncated SVD over 19033 words...\n",
      "Done.\n"
     ]
    }
   ],
   "source": [
    "M_co_occurrence, word2ind_co_occurrence = compute_co_occurrence_matrix(corpus)\n",
    "M_reduced_co_occurrence = reduce_to_k_dim(M_co_occurrence, k=2)"
   ]
  },
  {
   "cell_type": "code",
   "execution_count": 202,
   "metadata": {},
   "outputs": [],
   "source": [
    "# Rescale (normalize) the rows to make them each of unit-length\n",
    "M_lengths = np.linalg.norm(M_reduced_co_occurrence, axis=1)\n",
    "M_normalized = M_reduced_co_occurrence / M_lengths[:, np.newaxis] # broadcasting"
   ]
  },
  {
   "cell_type": "code",
   "execution_count": 206,
   "metadata": {},
   "outputs": [],
   "source": [
    "def plot_embeddings(M_reduced, word2ind, words, labels = []):\n",
    "    M_reduced2 = []\n",
    "    for w in words:\n",
    "        M_reduced2.append(M_reduced[word2ind[w]])\n",
    "    M_reduced2 = np.array(M_reduced2)\n",
    "    plt.scatter(M_reduced2.T[0],M_reduced2.T[1],color = 'r', marker = 'x')\n",
    "    for i,w in enumerate(words):\n",
    "        idx = word2ind[w]\n",
    "        plt.annotate(labels[i], xy = M_reduced[idx], xytext = M_reduced[idx])"
   ]
  },
  {
   "cell_type": "code",
   "execution_count": 214,
   "metadata": {},
   "outputs": [
    {
     "data": {
      "image/png": "[encoded data removed]",
      "text/plain": [
       "<Figure size 432x288 with 1 Axes>"
      ]
     },
     "metadata": {
      "needs_background": "light"
     },
     "output_type": "display_data"
    }
   ],
   "source": [
    "words = ['股票','设计','Nike','华尔街','消费','美国','经典','系列','战略','运动','疫情','平台']\n",
    "label = ['stock','design','nike','wallSt','Consump','US','Classic','Series','Strategy','Sport','Covid','Platform']\n",
    "\n",
    "plot_embeddings(M_normalized, word2ind_co_occurrence, words, labels = label)"
   ]
  },
  {
   "cell_type": "markdown",
   "metadata": {},
   "source": [
    "### LDA topic Modeling"
   ]
  },
  {
   "cell_type": "code",
   "execution_count": 226,
   "metadata": {},
   "outputs": [],
   "source": [
    "n_topics = 6\n",
    "lda = LatentDirichletAllocation(n_components=n_topics, max_iter=50,\n",
    "                                learning_method='online',\n",
    "                                learning_offset=50.,\n",
    "                                random_state=0)"
   ]
  },
  {
   "cell_type": "code",
   "execution_count": 227,
   "metadata": {},
   "outputs": [],
   "source": [
    "def print_top_words(model, feature_names, n_top_words):\n",
    "    for topic_idx, topic in enumerate(model.components_):\n",
    "        print(\"Topic #%d:\" % topic_idx)\n",
    "        print(\" \".join([feature_names[i] for i in topic.argsort()[:-n_top_words - 1:-1]]))"
   ]
  },
  {
   "cell_type": "code",
   "execution_count": 228,
   "metadata": {},
   "outputs": [
    {
     "data": {
      "text/plain": [
       "LatentDirichletAllocation(learning_method='online', learning_offset=50.0,\n",
       "                          max_iter=50, n_components=6, random_state=0)"
      ]
     },
     "execution_count": 228,
     "metadata": {},
     "output_type": "execute_result"
    }
   ],
   "source": [
    "lda.fit(cv_vect)"
   ]
  },
  {
   "cell_type": "code",
   "execution_count": 229,
   "metadata": {},
   "outputs": [
    {
     "name": "stdout",
     "output_type": "stream",
     "text": [
      "Topic #0:\n",
      "周四 近 中东地区 工厂 渠道 亦 基金 闪光点 降 目标\n",
      "Topic #1:\n",
      "零售业 目标 周四 闪光点 关系 群体 吸引 形势 全年 时间表\n",
      "Topic #2:\n",
      "nba 长期 乔丹 群体 申洲 配送 财经 aj 线上 n\n",
      "Topic #3:\n",
      "言论 nba 事实上 股价 业主 吸引 销售 数字 零售商 实战\n",
      "Topic #4:\n",
      "全年 年初 发布 市场预期 奢侈品 深度 疫情 群体 言论 中东地区\n",
      "Topic #5:\n",
      "同一天 贵人 基金 目标 下跌 销售 闪光点 行业 外媒 全年\n"
     ]
    }
   ],
   "source": [
    "n_top_words = 10\n",
    "feature_names = tfidf_model.get_feature_names()\n",
    "print_top_words(lda, feature_names, n_top_words)"
   ]
  },
  {
   "cell_type": "code",
   "execution_count": 230,
   "metadata": {},
   "outputs": [
    {
     "data": {
      "text/html": [
       "\n",
       "<link rel=\"stylesheet\" type=\"text/css\" href=\"/nbextensions/ldavis.v1.0.0.css\">\n",
       "\n",
       "\n",
       "<div id=\"ldavis_el5724855562363606577786044\"></div>\n",
       "<script type=\"text/javascript\">\n",
       "\n",
       "var ldavis_el5724855562363606577786044_data = {\"mdsDat\": {\"x\": [0.1793767233776579, -0.03528795052385447, -0.07895868956018443, -0.01796948127985221, 0.18819217930312318, -0.2353527813168899], \"y\": [-0.05220073845393177, -0.1129059364601635, -0.04449772506967093, -0.11130918655007843, 0.17800620968541206, 0.14290737684843266], \"topics\": [1, 2, 3, 4, 5, 6], \"cluster\": [1, 1, 1, 1, 1, 1], \"Freq\": [35.63852876592402, 20.665631916642756, 14.402777499385078, 13.453694582989565, 8.139006752087088, 7.700360482971491]}, \"tinfo\": {\"Term\": [\"\\u88c1\\u5458\", \"nike\", \"\\u54c1\\u724c\", \"\\u96c6\\u56e2\", \"\\u8d22\\u5e74\", \"\\u9500\\u91cf\", \"\\u540c\\u6bd4\", \"\\u4e8f\\u635f\", \"\\u5458\\u5de5\", \"\\u4e54\\u4e39\", \"\\u8010\\u514b\\u516c\\u53f8\", \"\\u8fd0\\u52a8\", \"\\u7403\\u978b\", \"\\u5e7f\\u544a\", \"\\u5927\\u4e2d\\u534e\\u533a\", \"\\u4e1a\\u52a1\", \"\\u7b2c\\u56db\\u5b63\\u5ea6\", \"\\u7f8e\\u56fd\", \"\\u9500\\u552e\", \"\\u6570\\u5b57\", \"\\u6d88\\u8d39\\u8005\", \"\\u96f6\\u552e\", \"\\u8bbe\\u8ba1\", \"\\u4ea7\\u54c1\", \"\\u7cfb\\u5217\", \"\\u914d\\u8272\", \"\\u963f\\u8fea\\u8fbe\\u65af\", \"\\u589e\\u957f\", \"\\u51c0\\u4e8f\\u635f\", \"\\u5bfc\\u81f4\", \"\\u975e\\u6d32\\u5730\\u533a\", \"\\u7a0e\\u524d\\u5229\\u6da6\", \"\\u51fa\\u8d27\\u91cf\", \"\\u62c9\\u4e01\\u7f8e\\u6d32\", \"\\u975e\\u6d32\", \"\\u5fae\\u6da8\", \"\\u53d1\\u9001\", \"\\u5254\\u9664\", \"\\u62c9\\u7f8e\\u5730\\u533a\", \"\\u6062\\u590d\\u6b63\\u5e38\", \"\\u8d22\\u5b63\", \"\\u589e\\u957f\\u6001\\u52bf\", \"\\u53cc\\u91cd\", \"\\u62a5\\u544a\\u671f\", \"\\u4f18\\u5f02\", \"\\u56e0\\u53d7\", \"\\u8fd9\\u79cd\\u505a\\u6cd5\", \"\\u644a\\u8584\\u540e\", \"\\u6bcf\\u7ecf\", \"\\u7cbe\\u7b80\", \"\\u603b\\u5e02\\u503c\", \"\\u4e1a\\u7ee9\\u9884\\u671f\", \"\\u6210\\u672c\\u4e0a\\u5347\", \"\\u4e70\\u5165\", \"\\u897f\\u65b9\", \"\\u5206\\u79d2\", \"\\u6e05\\u4ed3\", \"\\u5e02\\u573a\\u524d\\u666f\", \"\\u95ea\\u5149\\u70b9\", \"\\u5a31\\u4e50\\u6d3b\\u52a8\", \"\\u6c47\\u7387\", \"\\u6253\\u6298\", \"\\u4e2d\\u4e1c\", \"\\u9500\\u552e\\u6570\\u636e\", \"\\u4e9a\\u592a\", \"\\u5927\\u4e2d\\u534e\\u533a\", \"\\u767e\\u5206\\u70b9\", \"\\u7b2c\\u56db\\u8d22\\u5b63\", \"\\u65b0\\u51a0\\u75ab\\u60c5\", \"\\u53cc\\u4f4d\\u6570\", \"\\u540c\\u6bd4\", \"cnbc\", \"\\u8d22\\u5e74\", \"\\u4fc3\\u9500\", \"\\u7f55\\u89c1\", \"\\u4e0b\\u6ed1\", \"\\u4e0b\\u8dcc\", \"\\u5317\\u7f8e\", \"\\u6b27\\u6d32\", \"\\u4e0b\\u964d\", \"\\u6bdb\\u5229\\u7387\", \"\\u4e1a\\u7ee9\", \"\\u589e\\u957f\", \"\\u8425\\u6536\", \"\\u9500\\u552e\\u989d\", \"\\u8d22\\u62a5\", \"\\u9500\\u552e\", \"\\u6253\\u51fb\", \"\\u75ab\\u60c5\", \"\\u7b2c\\u56db\\u5b63\\u5ea6\", \"\\u8425\\u4e1a\", \"\\u95e8\\u5e97\", \"\\u6e20\\u9053\", \"\\u5f71\\u54cd\", \"\\u6062\\u590d\", \"\\u5168\\u7403\", \"\\u5730\\u533a\", \"\\u5e93\\u5b58\", \"\\u6570\\u5b57\", \"\\u5173\\u95ed\", \"\\u6536\\u5165\", \"\\u53d1\\u5e03\", \"\\u88c1\\u5458\", \"\\u6ed4\\u640f\\u56fd\\u9645\", \"\\u65af\\u51ef\\u5947\", \"\\u9732\\u9732\\u67e0\\u6aac\", \"\\u5b89\\u8e0f\", \"\\u6ed4\\u640f\", \"\\u745c\\u4f3d\", \"\\u5f6a\\u9a6c\", \"\\u4e9a\\u745f\\u58eb\", \"\\u9b3c\\u51a2\\u864e\", \"\\u8d35\\u4eba\", \"\\u7eba\\u7ec7\\u7f51\", \"nikeapp\", \"\\u4f5c\\u7528\", \"\\u767e\\u4e3d\", \"\\u7ea2\\u6885\", \"\\u4f11\\u95f2\", \"\\u4e13\\u4e1a\", \"\\u5f97\\u76ca\\u4e8e\", \"\\u4f18\\u52bf\", \"\\u589e\\u901f\", \"\\u6210\\u957f\", \"\\u54c1\\u7c7b\", \"\\u5e74\\u8f7b\\u4eba\", \"\\u5468\\u671f\", \"\\u63d0\\u5347\", \"\\u521b\\u65b0\", \"\\u7ade\\u4e89\", \"\\u5b9e\\u529b\", \"\\u529f\\u80fd\\u6027\", \"\\u7ecf\\u9a8c\", \"\\u56db\\u5b63\\u5ea6\", \"\\u963f\\u8fea\\u8fbe\\u65af\", \"\\u7ade\\u4e89\\u5bf9\\u624b\", \"\\u6570\\u5b57\\u5316\", \"\\u54c1\\u724c\", \"\\u6d88\\u8d39\\u8005\", \"\\u8fd0\\u52a8\", \"\\u7535\\u5546\", \"\\u4f53\\u80b2\", \"\\u7ecf\\u8425\", \"\\u8425\\u9500\", \"\\u8fd0\\u52a8\\u978b\", \"\\u6218\\u7565\", \"\\u674e\\u5b81\", \"\\u4ea7\\u54c1\", \"\\u5e02\\u573a\", \"\\u4e2d\\u56fd\", \"\\u53d1\\u5c55\", \"\\u5408\\u4f5c\\u4f19\\u4f34\", \"\\u9886\\u57df\", \"\\u884c\\u4e1a\", \"\\u589e\\u957f\", \"\\u8f6c\\u578b\", \"\\u6d88\\u8d39\", \"\\u95e8\\u5e97\", \"\\u6570\\u636e\", \"\\u4e1a\\u52a1\", \"\\u56fd\\u9645\", \"\\u75ab\\u60c5\", \"\\u6536\\u5165\", \"\\u96f6\\u552e\", \"\\u5168\\u7403\", \"\\u4e0b\\u964d\", \"\\u8425\\u6536\", \"\\u540c\\u6bd4\", \"\\u9500\\u552e\", \"\\u5e93\\u5b58\", \"nike\", \"\\u5b9d\\u6210\", \"\\u5370\\u5c3c\", \"\\u590f\\u5929\", \"\\u5962\\u4f88\\u54c1\", \"dior\", \"puma\", \"gucci\", \"\\u5e02\\u573a\\u4ef7\\u683c\", \"rmb\", \"\\u5b9e\\u6218\", \"\\u4e39\\u683c\\u6717\", \"\\u811a\\u611f\", \"\\u62d6\\u978b\", \"\\u5962\\u4f88\", \"\\u5feb\\u8baf\", \"\\u4efb\\u547d\", \"\\u6307\\u6570\", \"\\u6ce2\\u53f8\\u767b\", \"\\u5468\\u4e00\", \"\\u89e3\\u96c7\", \"\\u5236\\u9020\\u4e1a\", \"nike\\u96c6\\u56e2\", \"\\u5236\\u978b\", \"gap\", \"\\u65b0\\u897f\\u5170\", \"\\u53e3\\u7f69\", \"\\u4ee3\\u5de5\", \"\\u9632\\u62a4\", \"\\u9605\\u8bfb\", \"adidas\", \"\\u4eac\\u4e1c\", \"\\u5ef6\\u4f38\", \"\\u6bcd\\u516c\\u53f8\", \"\\u65f6\\u5c1a\", \"\\u96c6\\u56e2\", \"\\u5de5\\u5382\", \"\\u5546\\u4e1a\", \"\\u610f\\u5927\\u5229\", \"\\u8ba2\\u5355\", \"\\u4f4d\\u4e8e\", \"\\u751f\\u4ea7\", \"\\u5173\\u95ed\", \"\\u65d7\\u4e0b\", \"\\u75ab\\u60c5\", \"\\u5458\\u5de5\", \"\\u95e8\\u5e97\", \"\\u54c1\\u724c\", \"\\u5e02\\u503c\", \"\\u7f8e\\u56fd\", \"\\u7cfb\\u5217\", \"\\u4f01\\u4e1a\", \"\\u5f71\\u54cd\", \"\\u5927\\u8dcc\", \"\\u9500\\u552e\\u989d\", \"nike\", \"\\u5168\\u7403\", \"\\u4e2d\\u56fd\", \"\\u80a1\\u4ef7\", \"\\u6d3b\\u52a8\", \"\\u5e02\\u573a\", \"\\u53d1\\u5e03\", \"\\u745e\\u5e78\\u5496\\u5561\", \"\\u5e7f\\u544a\\u4e3b\", \"\\u8fdd\\u89c4\", \"\\u8054\\u5408\\u5229\\u534e\", \"\\u9020\\u8f66\", \"youtube\", \"\\u5c0f\\u7c73\", \"\\u9a7e\\u9a76\", \"\\u4e1a\\u4e3b\", \"\\u5c0f\\u9e4f\", \"\\u7f8e\\u767d\", \"\\u53ef\\u53e3\\u53ef\\u4e50\", \"\\u8a00\\u8bba\", \"\\u68c0\\u6d4b\", \"\\u4ec7\\u6068\", \"\\u7279\\u65af\\u62c9\", \"\\u63a2\\u63a2\", \"\\u6ef4\\u6ef4\", \"\\u6b27\\u83b1\\u96c5\", \"\\u62a4\\u80a4\\u54c1\", \"\\u4e0a\\u8c03\", \"mixer\", \"\\u98de\\u673a\", \"\\u5fae\\u535a\\u7fa4\", \"\\u9ea6\\u5f53\\u52b3\", \"\\u5c0f\\u7c73\\u96c6\\u56e2\", \"\\u6d41\\u5a92\\u4f53\", \"\\u5b57\\u773c\", \"\\u5fae\\u535a\", \"\\u53cb\\u597d\", \"\\u5e7f\\u544a\", \"iphone\", \"\\u6e38\\u620f\", \"\\u81ea\\u52a8\", \"\\u62b5\\u5236\", \"\\u75c5\\u4f8b\", \"\\u5fae\\u8f6f\", \"\\u7528\\u6237\", \"\\u786e\\u8bca\", \"\\u5e73\\u53f0\", \"\\u56de\\u5e94\", \"\\u6c7d\\u8f66\", \"\\u5a92\\u4f53\", \"\\u5168\\u56fd\", \"\\u793e\\u4ea4\", \"\\u89c6\\u9891\", \"\\u6295\\u653e\", \"\\u6d88\\u606f\", \"\\u5317\\u4eac\", \"\\u505c\\u6b62\", \"\\u76f4\\u64ad\", \"\\u53d1\\u5e03\", \"\\u670d\\u52a1\", \"\\u5168\\u7403\", \"\\u652f\\u4ed8\", \"\\u4e0a\\u6d77\", \"app\", \"\\u7f8e\\u56fd\", \"\\u79d1\\u6280\", \"\\u63a8\\u51fa\", \"\\u4f01\\u4e1a\", \"\\u88c1\\u5458\", \"\\u8ba1\\u5212\", \"\\u4e2d\\u56fd\", \"\\u4ea7\\u54c1\", \"\\u9884\\u8ba1\", \"\\u75ab\\u60c5\", \"\\u54c1\\u724c\", \"\\u5e02\\u573a\", \"\\u518d\\u6295\\u8d44\", \"\\u5de5\\u4f5c\\u5c97\\u4f4d\", \"\\u5c01\\u7535\\u5b50\\u90ae\\u4ef6\", \"web\", \"encrypt\", \"extra\", \"type\", \"\\u91cd\\u7ec4\", \"\\u6f5c\\u529b\", \"\\u544a\\u8bc9\", \"\\u4e0a\\u5468\\u4e94\", \"\\u5468\\u56db\", \"\\u8010\\u514b\\u516c\\u53f8\", \"\\u4e2d\\u8bf4\", \"\\u6f5c\\u5728\", \"\\u8f6c\\u5411\", \"\\u9884\\u8b66\", \"\\u5355\\u5b63\", \"\\u5de8\\u4e8f\", \"\\u8270\\u96be\", \"\\u524a\\u51cf\", \"\\u9636\\u6bb5\", \"\\u63d0\\u9ad8\", \"\\u625b\\u4e0d\\u4f4f\", \"\\u6548\\u7387\", \"\\u5468\\u4e94\", \"\\u80a1\\u4ef7\\u4e0b\\u8dcc\", \"\\u4eae\\u70b9\", \"\\u52a0\\u901f\", \"\\u88ab\\u8feb\", \"\\u88c1\\u5458\", \"\\u8d44\\u6e90\", \"\\u5bfc\\u81f4\", \"\\u4e8f\\u635f\", \"nike\", \"\\u51c0\\u4e8f\\u635f\", \"\\u5458\\u5de5\", \"\\u4e1a\\u52a1\", \"\\u5728\\u7ebf\", \"\\u591a\\u7eb3\", \"\\u6570\\u5b57\", \"\\u5f53\\u5730\", \"\\u9996\\u5e2d\\u6267\\u884c\\u5b98\", \"\\u96f6\\u552e\", \"\\u672a\\u6765\", \"\\u80fd\\u529b\", \"\\u9500\\u552e\", \"\\u7b2c\\u56db\\u5b63\\u5ea6\", \"\\u5b63\\u5ea6\", \"\\u9884\\u8ba1\", \"\\u5f71\\u54cd\", \"\\u516c\\u5e03\", \"\\u6e20\\u9053\", \"\\u8d22\\u5e74\", \"\\u8d22\\u62a5\", \"\\u96c6\\u56e2\", \"\\u75ab\\u60c5\", \"\\u8ba1\\u5212\", \"\\u4e54\\u4e39\", \"\\u7bee\\u7403\", \"\\u7403\\u961f\", \"\\u7403\\u8863\", \"aj\", \"\\u7403\\u5458\", \"\\u6bd4\\u8d5b\", \"\\u767b\\u573a\", \"\\u5e74\\u4ee3\", \"\\u989c\\u503c\", \"airjordan\", \"\\u4eba\\u6c14\", \"\\u914d\\u8272\", \"\\u4ff1\\u4e50\\u90e8\", \"\\u8bad\\u7ec3\", \"nba\", \"\\u5f53\\u4e2d\", \"\\u8fd9\\u53cc\\u978b\", \"\\u8054\\u8d5b\", \"\\u8d5b\\u5b63\", \"\\u4e07\\u53cc\", \"\\u7ec6\\u8282\", \"\\u8fd9\\u53cc\", \"\\u88c5\\u5907\", \"\\u7a7f\\u7740\", \"\\u5165\\u624b\", \"\\u5ef6\\u671f\", \"yeezyboostv\", \"\\u7403\\u978b\", \"\\u8054\\u540d\", \"\\u9500\\u91cf\", \"\\u978b\\u5b50\", \"\\u5321\\u5a01\", \"\\u8bbe\\u8ba1\", \"\\u53d1\\u552e\", \"\\u7b2c\\u4e09\\u5b63\\u5ea6\", \"\\u978b\\u6b3e\", \"\\u8dd1\\u978b\", \"\\u7cfb\\u5217\", \"nike\", \"\\u963f\\u8fea\", \"\\u7f8e\\u56fd\", \"\\u7ecf\\u6d4e\", \"\\u4ee3\\u8868\", \"\\u5b8c\\u6574\", \"\\u65e0\\u5173\", \"\\u4ef7\\u683c\", \"\\u7ecf\\u5178\", \"\\u4e2d\\u56fd\", \"\\u65e5\\u672c\", \"\\u75ab\\u60c5\", \"\\u5e02\\u573a\", \"\\u6536\\u5165\", \"\\u5168\\u7403\", \"\\u8d85\\u8fc7\", \"\\u5f71\\u54cd\", \"\\u54c1\\u724c\"], \"Freq\": [1097.0, 934.0, 1900.0, 971.0, 1442.0, 363.0, 1816.0, 599.0, 547.0, 210.0, 287.0, 1014.0, 244.0, 275.0, 792.0, 699.0, 481.0, 911.0, 1216.0, 580.0, 649.0, 605.0, 257.0, 833.0, 285.0, 154.0, 372.0, 1725.0, 300.0, 296.0, 153.65698140079888, 139.34250253001207, 116.95482360993925, 106.0506410456516, 93.41943196278672, 89.80854404812091, 86.74888946058111, 69.1125997408519, 67.74474966115879, 63.82928797530444, 61.35289590793685, 60.698176818779714, 58.876017468689085, 57.58339789042088, 57.33954003207384, 55.32041159588066, 54.21297236731673, 53.3299784316881, 50.55886935779595, 50.02794277047932, 49.21269509027817, 48.33679559259942, 47.34843929596578, 47.07270615661267, 46.650738434380266, 45.81661488098401, 45.852490068359046, 44.32736402167472, 44.4589766117803, 43.5352843327273, 228.55356236753553, 122.21964365311013, 191.50170367895953, 90.70880025595899, 175.68914273775883, 724.1865212443231, 106.0946865723079, 502.95014798345494, 235.46035389535172, 168.98835770928673, 1511.6491806004858, 200.29655122201788, 1205.3373916664789, 133.68181530647718, 104.65690891518804, 454.2265594399031, 477.7189137256377, 292.0164211764918, 307.7914580755864, 806.609538393421, 217.19769228193448, 616.1990934494738, 1165.3599659399936, 735.0547734814609, 607.0464556103861, 539.5352435432442, 788.6096786007816, 177.46942239430578, 1095.6397800625234, 344.78068053021246, 318.38237220488946, 786.0117503633022, 434.0854176623018, 609.045806375027, 306.8666734549269, 668.3595878704209, 319.564957789766, 289.4071401402302, 302.1681717927872, 333.9988759158259, 309.45272655901766, 328.14298208978096, 319.288527781421, 202.05542915500794, 110.23763678455329, 93.25883750979398, 98.26702250072103, 72.14813537169177, 69.87878060340563, 62.04813174510567, 48.21060409522962, 46.52268904641837, 51.579748775985166, 45.43879336856621, 46.00554917484981, 36.14541521839464, 35.0027734853453, 33.38881307365366, 68.62682326800744, 61.665747371501254, 58.59753644647303, 89.82320231760006, 70.8678553303752, 34.74310074848284, 61.883580982814365, 31.45200026558229, 34.14298362225006, 196.8962029245308, 135.36817157123434, 44.833587945671475, 60.90143508834186, 42.90524740869583, 68.9871468894057, 105.84464944157722, 294.68432376598577, 54.93669860120825, 253.61452026352822, 1126.3104331164875, 438.9642680451522, 626.5571789732853, 182.0376384193512, 118.86455627161578, 132.02790107220935, 123.66823277575247, 171.15024091199066, 112.43263346660986, 98.4065899179646, 435.63103062677936, 468.3836293326502, 494.8208241918553, 150.8778607365577, 108.40989508844207, 124.90570707457317, 158.39055742759658, 402.87990934224933, 100.26973906023008, 129.3330535357302, 305.63012920882863, 174.34513965151694, 202.2004711495871, 129.5191759106277, 268.37672819813713, 168.56329634451492, 164.8064350081048, 206.24388559052647, 187.62760421552724, 180.06097861262762, 194.6870257577898, 143.46821180777462, 132.73175159083877, 135.7173592048652, 121.06454316486219, 85.73473227722546, 74.16071718617196, 65.48542995766465, 65.33466801096486, 63.323160005713, 63.0897254060299, 61.51387779045844, 58.64166025632406, 51.25807550818085, 44.875707826662385, 43.3561346430866, 36.57010089520697, 40.05774711122715, 60.71341218675567, 34.20295450694561, 33.863647912092745, 39.280150223110276, 82.18957871101298, 58.94743801805123, 35.641363847328265, 42.93115428653292, 62.74906555688887, 65.16891303472283, 33.251271346819856, 80.90135453779331, 34.2226966983872, 30.2804732998202, 118.98830996651374, 57.64865053495548, 64.59359329115306, 116.8503592102081, 86.35980024250878, 170.09211978305515, 512.0510225959838, 153.92215224411856, 111.61221212584107, 65.56966467374045, 129.32957961975583, 91.77531948048784, 122.47037793797115, 266.5485952086522, 102.73166611802364, 370.2292868167049, 181.69497549982097, 289.3627984450683, 329.2934199630189, 101.78187468385205, 190.0477398693615, 113.590389084248, 128.32589744739826, 175.02438247494595, 94.46523996494345, 153.1860863305268, 156.23491692427768, 172.5257803612026, 137.93016512696366, 105.12759208082821, 101.78578537920215, 93.5075432403305, 90.46252567595937, 87.08322405238908, 63.354126283399616, 60.86621783017885, 58.16023152262872, 57.121295623325906, 53.87798312335824, 54.067233286996554, 52.02477400535765, 51.99098372816301, 51.10439950049651, 51.982178678688854, 46.143873076168184, 44.75361303834984, 45.609347259392585, 43.515434974679984, 42.68093318392205, 42.50070811756624, 40.612591770042556, 55.769615799350994, 45.26285880256292, 39.201758684633404, 36.95351314229559, 36.715347080630224, 36.02688196128885, 34.20876268756404, 31.913669288674857, 31.153613671184143, 31.16170951456152, 89.79744942438411, 38.025883781533366, 261.56037870659844, 65.18991292386619, 86.43391647030964, 56.6136141349929, 55.11882122537714, 75.19947133800177, 71.31838531201726, 158.75439637894004, 91.0354187498642, 193.3762548020537, 104.74418541414909, 74.04187908311309, 181.39954575700267, 110.6951258177757, 115.35554633525656, 94.60276229680746, 80.63458593722584, 177.69506547444138, 98.91836446003916, 75.60316067358627, 108.16823447313945, 216.37899228494, 112.02273995830006, 272.769690872804, 67.04522430843285, 69.31860884666517, 84.28000444348358, 156.28668039822477, 82.17628261819712, 101.56323171558707, 110.49744231935, 127.39670011643035, 97.45098907029998, 118.32490342463684, 110.37333961133075, 99.1963692678687, 114.36687577891863, 101.72383644526863, 90.09036911704905, 55.42955905173594, 49.785355001251254, 35.972353522828215, 32.00320456733476, 32.00316022142258, 31.06792658733722, 47.56845881495655, 62.6902852679837, 64.4488401785479, 31.752255198537732, 32.67638865107729, 86.9947302351857, 219.43186296597185, 27.504067355776098, 33.84639802909543, 38.66690021589272, 27.822076214304666, 104.53309149219233, 115.77756285648776, 33.63357659883994, 50.49798939082485, 44.16192879369905, 62.8173406749878, 26.874640967641714, 26.754551282152413, 104.95180504978038, 25.119257653744132, 21.524419454997446, 59.25875453703808, 33.33595819968324, 563.6118577416612, 73.79943256350222, 136.28630570970304, 240.68217470773095, 316.64582126297, 115.8034028711966, 175.11893213594004, 193.3521118246653, 109.21112587745311, 83.63580648777683, 146.54216470913272, 71.5762725860828, 85.67861549184799, 140.85866336145762, 106.01908007300152, 63.68042964390172, 167.67770698490236, 109.01732153168862, 100.25086124702266, 108.52551727974638, 130.63419151420933, 97.09616915255806, 103.28092671856061, 115.13352050412664, 93.39005608472694, 90.94078883558412, 98.00749262872182, 79.79811782614976, 209.35847875502833, 59.11142834771895, 43.3201988058867, 41.10712551705273, 129.84666279580424, 49.746194283301975, 47.79094071778256, 31.883127144933972, 42.67722860124878, 43.319229626919984, 83.5456039301605, 35.71882389905613, 140.47672926998715, 42.80775864470553, 41.664750120206236, 112.73624322319864, 29.527895797117072, 36.698703908118404, 37.95525125573149, 37.36112339046825, 30.969407095585712, 30.032867419417855, 35.9718089255468, 26.772358873093754, 41.66376377346956, 52.70433964107506, 39.553239242598885, 31.5836729304334, 180.07355073478257, 55.0093783800343, 234.08292492325103, 75.04378669704421, 86.34286279137609, 135.5349487937837, 99.46456694095893, 64.8541473734226, 68.82310832875658, 60.4894447827815, 123.2745316665341, 236.6037590177402, 75.67318183929689, 184.75044437813625, 75.02145502261813, 87.29051975469066, 79.11976786477065, 76.6086531407192, 70.74398034052426, 51.48674490632272, 96.05584192643319, 54.43045933392075, 87.98071450736809, 78.69876972070725, 69.48092236839024, 74.59232514047423, 62.94237944214195, 69.97943584528736, 68.1489364867897], \"Total\": [1097.0, 934.0, 1900.0, 971.0, 1442.0, 363.0, 1816.0, 599.0, 547.0, 210.0, 287.0, 1014.0, 244.0, 275.0, 792.0, 699.0, 481.0, 911.0, 1216.0, 580.0, 649.0, 605.0, 257.0, 833.0, 285.0, 154.0, 372.0, 1725.0, 300.0, 296.0, 154.50379916144465, 140.19090004614762, 117.82381233818495, 106.89749224702834, 94.26817587793984, 90.65538299542007, 87.75501977981503, 69.95969102765973, 68.5926668330419, 64.6795942055162, 62.205836470994356, 61.54801489812927, 59.72730581289425, 58.43074440529038, 58.190117847676355, 56.17242293637035, 55.059737487256406, 54.1836677102724, 51.40462151933278, 50.87693982618686, 50.06493209641238, 49.18308873064908, 48.194850087153775, 47.92057661527314, 47.49661092759933, 46.66321783894624, 46.70188297279899, 45.17439092177584, 45.31135279876434, 44.383851678305405, 233.1376700542928, 124.89720366146891, 196.82984641274982, 92.61855653715746, 183.7261535590032, 792.9994032501196, 110.33543231826195, 554.8758612133345, 253.95589728249143, 180.45537100109368, 1816.5410130360767, 216.5569569483557, 1442.0343076823522, 142.8762353837834, 110.55856774949208, 533.4329452850263, 573.358502059979, 348.68466671268226, 375.93199498149335, 1112.9331877956172, 255.0265846653575, 829.2435974050229, 1725.5141033714215, 1067.3091569481956, 857.2864248840739, 770.7005945036001, 1216.7163617047154, 208.09097128262675, 2034.6008779923739, 481.9460891470609, 440.7195754745173, 1450.3105974357452, 695.2129314617395, 1114.3004131139799, 443.4083995580252, 1413.4055839082348, 498.32399153741875, 445.67086971471963, 580.2958921146908, 741.8182145567367, 628.2886340064856, 759.2990076353548, 1097.8619535459618, 202.88565848931944, 111.07224235993024, 94.09207011640308, 99.30138193661038, 72.97611215050053, 70.70650169710052, 63.09097219044116, 49.046172161709485, 47.35137896163055, 52.517216214592686, 46.26703580481967, 46.84412680516874, 36.97574915953545, 35.83155695799409, 34.21549054391107, 70.74630004589964, 63.781759586690555, 61.15002539663515, 93.94060804193717, 74.58910492085249, 36.74561039138285, 65.48110691886059, 33.29459784367, 36.302146944382564, 210.37596537944972, 144.90688781252612, 48.48141772108613, 66.27542641216395, 46.95506115209786, 76.51860267852439, 119.64241184987966, 372.322303633251, 61.12366838947513, 331.70312853300095, 1900.8049264218407, 649.5390976186633, 1014.7269442484412, 242.4175078003293, 149.6574988269546, 170.41562318393673, 157.61475458062122, 237.38962686510624, 143.19244946765124, 121.6320359861336, 833.5956759584492, 1057.1556617029846, 1144.804008422642, 262.67308185344706, 156.70596590590787, 199.27006015912502, 306.157420185115, 1725.5141033714215, 141.40413983086074, 237.097304250725, 1450.3105974357452, 477.08123557696746, 699.4549059931378, 244.74007256617176, 2034.6008779923739, 628.2886340064856, 605.0457415222446, 1413.4055839082348, 1112.9331877956172, 1067.3091569481956, 1816.5410130360767, 1216.7163617047154, 445.67086971471963, 934.970269416598, 121.89721265587143, 86.55612866092025, 74.98524070950614, 66.30617502174577, 66.16438396661653, 64.14292862521603, 63.91564870031667, 62.334994615743604, 59.463265943880906, 52.10290635896105, 45.6940333583224, 44.17966546418666, 37.39123677524566, 40.976850220037974, 62.14891370127021, 35.02160347709816, 34.69667900952038, 40.39232846879525, 84.52847599444203, 61.014464966003004, 36.89261541210798, 44.769719867486266, 65.64814978750785, 70.17605788748473, 36.17950701871365, 90.11129145389405, 38.51748610667722, 34.100353709695916, 134.13793917796784, 65.13068324329683, 73.84954596129613, 135.86647007007332, 103.50683456324417, 241.15486791875153, 971.174287621648, 222.7664576347391, 151.02082777983583, 78.33561281991807, 194.70400761177186, 130.67154423656888, 213.91640839405508, 741.8182145567367, 184.91967153926632, 2034.6008779923739, 547.4813645905979, 1450.3105974357452, 1900.8049264218407, 203.3269546998454, 911.782309909559, 285.5209969794028, 430.19528549881795, 1114.3004131139799, 202.46085297149895, 857.2864248840739, 934.970269416598, 1413.4055839082348, 1144.804008422642, 403.5682673740764, 367.9574458295513, 1057.1556617029846, 759.2990076353548, 87.91616920209877, 64.1847647705042, 61.6973403747174, 58.9950885531121, 57.951950296967745, 54.70947295838443, 54.92356157366228, 52.85554957537827, 52.821525863406755, 51.93487741786884, 52.840333130593294, 46.980060965141654, 45.58723810846774, 46.46676230039649, 44.34925606268604, 43.512875849424994, 43.33113930150447, 41.44384618253177, 56.95024718955373, 46.22751241624399, 40.05425673317823, 37.784086275130875, 37.547444339199316, 36.857531988527555, 35.055455690455545, 32.74411310797569, 31.98572613781795, 32.07285178653194, 93.10290174758225, 39.5760337856029, 275.75077922394945, 67.9521290273638, 90.8877284864257, 59.442496982391134, 57.916195725657595, 81.8709882901654, 77.97146868556457, 192.9500005566855, 105.07747272114347, 263.3461459456489, 127.8480734292331, 84.18493751573706, 273.4921213317593, 148.2097645970489, 158.73909947998308, 122.02450364978685, 99.4537591658226, 332.04094479621455, 139.1810119459013, 94.33808651636734, 170.2467663161166, 759.2990076353548, 219.36832347755575, 1413.4055839082348, 85.38062012203133, 99.11551683182374, 166.00704902973206, 911.782309909559, 163.28143102058675, 322.206486786894, 430.19528549881795, 1097.8619535459618, 449.8069372976918, 1144.804008422642, 833.5956759584492, 563.0872377603534, 2034.6008779923739, 1900.8049264218407, 1057.1556617029846, 56.33287572396505, 50.79255970750192, 36.831801976351265, 32.830168387547516, 32.83018744364306, 31.89498651044437, 49.48939615002771, 70.8633516728606, 73.31138127165013, 36.22508894599573, 38.484554987977894, 113.67050161436615, 287.2297394487406, 37.15711855535538, 47.555547646485444, 55.18673936948449, 39.97083130961837, 157.39532281666655, 174.53364102007308, 51.348167028515306, 77.67740444613227, 70.57096600152774, 102.48221375708032, 45.38005176195589, 46.61179292625842, 188.58020892612691, 46.961904131818905, 40.630598675288894, 113.45190960027419, 64.22374288704114, 1097.8619535459618, 142.26714178975897, 296.89033584091663, 599.0668999143314, 934.970269416598, 300.2877417988429, 547.4813645905979, 699.4549059931378, 301.8956581596859, 215.30068549511955, 580.2958921146908, 166.1286012011218, 233.294186541519, 605.0457415222446, 407.1856290935666, 141.1063732591329, 1216.7163617047154, 481.9460891470609, 450.0460383343951, 563.0872377603534, 1114.3004131139799, 461.1098835982251, 695.2129314617395, 1442.0343076823522, 770.7005945036001, 971.174287621648, 2034.6008779923739, 449.8069372976918, 210.17393320636228, 59.94090164078055, 44.14073661521533, 41.92482797957471, 132.801449084721, 51.15440606689306, 50.7835981222975, 34.06612288743369, 45.63301744146264, 46.60094061176129, 90.33680330774554, 38.629054707550665, 154.66014103638506, 48.71507080640779, 47.49613747284086, 129.29234596228517, 33.969335884094725, 43.03476053987401, 44.77016233905448, 45.340650888378995, 38.100946417070006, 37.123417952554476, 45.526554676427935, 33.885585601245026, 52.78797716329439, 67.01429330736913, 51.103185851129616, 40.84753351058412, 244.52794224108942, 78.13543213766602, 363.04721744666784, 111.20557061934673, 137.56950757005492, 257.2837340098594, 172.58169659384166, 100.29924879375922, 109.01890677578079, 94.73568253264756, 285.5209969794028, 934.970269416598, 146.42455706728217, 911.782309909559, 194.686813638715, 280.5311002938619, 249.22870938714658, 260.76345537930496, 218.51593717135205, 84.96830946520838, 1144.804008422642, 117.05240273535635, 2034.6008779923739, 1057.1556617029846, 628.2886340064856, 1413.4055839082348, 313.2258820358206, 1114.3004131139799, 1900.8049264218407], \"Category\": [\"Default\", \"Default\", \"Default\", \"Default\", \"Default\", \"Default\", \"Default\", \"Default\", \"Default\", \"Default\", \"Default\", \"Default\", \"Default\", \"Default\", \"Default\", \"Default\", \"Default\", \"Default\", \"Default\", \"Default\", \"Default\", \"Default\", \"Default\", \"Default\", \"Default\", \"Default\", \"Default\", \"Default\", \"Default\", \"Default\", \"Topic1\", \"Topic1\", \"Topic1\", \"Topic1\", \"Topic1\", \"Topic1\", \"Topic1\", \"Topic1\", \"Topic1\", \"Topic1\", \"Topic1\", \"Topic1\", \"Topic1\", \"Topic1\", \"Topic1\", \"Topic1\", \"Topic1\", \"Topic1\", \"Topic1\", \"Topic1\", \"Topic1\", \"Topic1\", \"Topic1\", \"Topic1\", \"Topic1\", \"Topic1\", \"Topic1\", \"Topic1\", \"Topic1\", \"Topic1\", \"Topic1\", \"Topic1\", \"Topic1\", \"Topic1\", \"Topic1\", \"Topic1\", \"Topic1\", \"Topic1\", \"Topic1\", \"Topic1\", \"Topic1\", \"Topic1\", \"Topic1\", \"Topic1\", \"Topic1\", \"Topic1\", \"Topic1\", \"Topic1\", \"Topic1\", \"Topic1\", \"Topic1\", \"Topic1\", \"Topic1\", \"Topic1\", \"Topic1\", \"Topic1\", \"Topic1\", \"Topic1\", \"Topic1\", \"Topic1\", \"Topic1\", \"Topic1\", \"Topic1\", \"Topic1\", \"Topic1\", \"Topic1\", \"Topic1\", \"Topic1\", \"Topic1\", \"Topic1\", \"Topic1\", \"Topic1\", \"Topic1\", \"Topic2\", \"Topic2\", \"Topic2\", \"Topic2\", \"Topic2\", \"Topic2\", \"Topic2\", \"Topic2\", \"Topic2\", \"Topic2\", \"Topic2\", \"Topic2\", \"Topic2\", \"Topic2\", \"Topic2\", \"Topic2\", \"Topic2\", \"Topic2\", \"Topic2\", \"Topic2\", \"Topic2\", \"Topic2\", \"Topic2\", \"Topic2\", \"Topic2\", \"Topic2\", \"Topic2\", \"Topic2\", \"Topic2\", \"Topic2\", \"Topic2\", \"Topic2\", \"Topic2\", \"Topic2\", \"Topic2\", \"Topic2\", \"Topic2\", \"Topic2\", \"Topic2\", \"Topic2\", \"Topic2\", \"Topic2\", \"Topic2\", \"Topic2\", \"Topic2\", \"Topic2\", \"Topic2\", \"Topic2\", \"Topic2\", \"Topic2\", \"Topic2\", \"Topic2\", \"Topic2\", \"Topic2\", \"Topic2\", \"Topic2\", \"Topic2\", \"Topic2\", \"Topic2\", \"Topic2\", \"Topic2\", \"Topic2\", \"Topic2\", \"Topic2\", \"Topic2\", \"Topic2\", \"Topic2\", \"Topic2\", \"Topic3\", \"Topic3\", \"Topic3\", \"Topic3\", \"Topic3\", \"Topic3\", \"Topic3\", \"Topic3\", \"Topic3\", \"Topic3\", \"Topic3\", \"Topic3\", \"Topic3\", \"Topic3\", \"Topic3\", \"Topic3\", \"Topic3\", \"Topic3\", \"Topic3\", \"Topic3\", \"Topic3\", \"Topic3\", \"Topic3\", \"Topic3\", \"Topic3\", \"Topic3\", \"Topic3\", \"Topic3\", \"Topic3\", \"Topic3\", \"Topic3\", \"Topic3\", \"Topic3\", \"Topic3\", \"Topic3\", \"Topic3\", \"Topic3\", \"Topic3\", \"Topic3\", \"Topic3\", \"Topic3\", \"Topic3\", \"Topic3\", \"Topic3\", \"Topic3\", \"Topic3\", \"Topic3\", \"Topic3\", \"Topic3\", \"Topic3\", \"Topic3\", \"Topic3\", \"Topic3\", \"Topic3\", \"Topic3\", \"Topic3\", \"Topic3\", \"Topic3\", \"Topic3\", \"Topic3\", \"Topic3\", \"Topic4\", \"Topic4\", \"Topic4\", \"Topic4\", \"Topic4\", \"Topic4\", \"Topic4\", \"Topic4\", \"Topic4\", \"Topic4\", \"Topic4\", \"Topic4\", \"Topic4\", \"Topic4\", \"Topic4\", \"Topic4\", \"Topic4\", \"Topic4\", \"Topic4\", \"Topic4\", \"Topic4\", \"Topic4\", \"Topic4\", \"Topic4\", \"Topic4\", \"Topic4\", \"Topic4\", \"Topic4\", \"Topic4\", \"Topic4\", \"Topic4\", \"Topic4\", \"Topic4\", \"Topic4\", \"Topic4\", \"Topic4\", \"Topic4\", \"Topic4\", \"Topic4\", \"Topic4\", \"Topic4\", \"Topic4\", \"Topic4\", \"Topic4\", \"Topic4\", \"Topic4\", \"Topic4\", \"Topic4\", \"Topic4\", \"Topic4\", \"Topic4\", \"Topic4\", \"Topic4\", \"Topic4\", \"Topic4\", \"Topic4\", \"Topic4\", \"Topic4\", \"Topic4\", \"Topic4\", \"Topic4\", \"Topic4\", \"Topic4\", \"Topic4\", \"Topic4\", \"Topic4\", \"Topic4\", \"Topic4\", \"Topic4\", \"Topic5\", \"Topic5\", \"Topic5\", \"Topic5\", \"Topic5\", \"Topic5\", \"Topic5\", \"Topic5\", \"Topic5\", \"Topic5\", \"Topic5\", \"Topic5\", \"Topic5\", \"Topic5\", \"Topic5\", \"Topic5\", \"Topic5\", \"Topic5\", \"Topic5\", \"Topic5\", \"Topic5\", \"Topic5\", \"Topic5\", \"Topic5\", \"Topic5\", \"Topic5\", \"Topic5\", \"Topic5\", \"Topic5\", \"Topic5\", \"Topic5\", \"Topic5\", \"Topic5\", \"Topic5\", \"Topic5\", \"Topic5\", \"Topic5\", \"Topic5\", \"Topic5\", \"Topic5\", \"Topic5\", \"Topic5\", \"Topic5\", \"Topic5\", \"Topic5\", \"Topic5\", \"Topic5\", \"Topic5\", \"Topic5\", \"Topic5\", \"Topic5\", \"Topic5\", \"Topic5\", \"Topic5\", \"Topic5\", \"Topic5\", \"Topic5\", \"Topic5\", \"Topic6\", \"Topic6\", \"Topic6\", \"Topic6\", \"Topic6\", \"Topic6\", \"Topic6\", \"Topic6\", \"Topic6\", \"Topic6\", \"Topic6\", \"Topic6\", \"Topic6\", \"Topic6\", \"Topic6\", \"Topic6\", \"Topic6\", \"Topic6\", \"Topic6\", \"Topic6\", \"Topic6\", \"Topic6\", \"Topic6\", \"Topic6\", \"Topic6\", \"Topic6\", \"Topic6\", \"Topic6\", \"Topic6\", \"Topic6\", \"Topic6\", \"Topic6\", \"Topic6\", \"Topic6\", \"Topic6\", \"Topic6\", \"Topic6\", \"Topic6\", \"Topic6\", \"Topic6\", \"Topic6\", \"Topic6\", \"Topic6\", \"Topic6\", \"Topic6\", \"Topic6\", \"Topic6\", \"Topic6\", \"Topic6\", \"Topic6\", \"Topic6\", \"Topic6\", \"Topic6\", \"Topic6\", \"Topic6\", \"Topic6\", \"Topic6\"], \"logprob\": [30.0, 29.0, 28.0, 27.0, 26.0, 25.0, 24.0, 23.0, 22.0, 21.0, 20.0, 19.0, 18.0, 17.0, 16.0, 15.0, 14.0, 13.0, 12.0, 11.0, 10.0, 9.0, 8.0, 7.0, 6.0, 5.0, 4.0, 3.0, 2.0, 1.0, -5.678, -5.7758, -5.9509, -6.0488, -6.1756, -6.2151, -6.2497, -6.477, -6.497, -6.5565, -6.5961, -6.6068, -6.6373, -6.6595, -6.6637, -6.6996, -6.7198, -6.7362, -6.7896, -6.8001, -6.8166, -6.8345, -6.8552, -6.861, -6.87, -6.8881, -6.8873, -6.9211, -6.9182, -6.9392, -5.281, -5.9069, -5.4578, -6.2051, -5.544, -4.1277, -6.0484, -4.4922, -5.2512, -5.5829, -3.3918, -5.4129, -3.6182, -5.8173, -6.062, -4.5941, -4.5437, -5.0359, -4.9833, -4.0199, -5.3319, -4.2892, -3.6519, -4.1128, -4.3041, -4.422, -4.0425, -5.5339, -3.7136, -4.8698, -4.9495, -4.0458, -4.6395, -4.3008, -4.9863, -4.2079, -4.9458, -5.0449, -5.0017, -4.9016, -4.9779, -4.9193, -4.9466, -4.8592, -5.4651, -5.6324, -5.5801, -5.8891, -5.921, -6.0399, -6.2922, -6.3278, -6.2246, -6.3514, -6.339, -6.5802, -6.6123, -6.6596, -5.9391, -6.046, -6.0971, -5.6699, -5.907, -6.6198, -6.0425, -6.7193, -6.6372, -4.8851, -5.2598, -6.3648, -6.0585, -6.4088, -5.9339, -5.5058, -4.4819, -6.1616, -4.632, -3.1411, -4.0834, -3.7275, -4.9636, -5.3898, -5.2848, -5.3502, -5.0252, -5.4454, -5.5787, -4.091, -4.0185, -3.9636, -5.1513, -5.4819, -5.3402, -5.1027, -4.1691, -5.5599, -5.3054, -4.4454, -5.0067, -4.8585, -5.3039, -4.5754, -5.0405, -5.063, -4.8387, -4.9333, -4.9745, -4.8964, -5.2017, -5.2794, -5.2572, -5.0104, -5.3555, -5.5005, -5.6249, -5.6272, -5.6585, -5.6622, -5.6875, -5.7353, -5.8699, -6.0028, -6.0373, -6.2075, -6.1164, -5.7006, -6.2744, -6.2844, -6.136, -5.3977, -5.7301, -6.2332, -6.0471, -5.6676, -5.6297, -6.3026, -5.4135, -6.2738, -6.3962, -5.0277, -5.7524, -5.6386, -5.0458, -5.3482, -4.6704, -3.5683, -4.7703, -5.0917, -5.6236, -4.9444, -5.2874, -4.9989, -4.2212, -5.1746, -3.8926, -4.6044, -4.139, -4.0098, -5.1839, -4.5594, -5.0741, -4.9522, -4.6418, -5.2585, -4.7751, -4.7554, -4.6562, -4.88, -5.1515, -5.1839, -5.2687, -5.3018, -5.2717, -5.5898, -5.6299, -5.6754, -5.6934, -5.7518, -5.7483, -5.7868, -5.7875, -5.8047, -5.7877, -5.9068, -5.9374, -5.9184, -5.9654, -5.9848, -5.989, -6.0345, -5.7173, -5.9261, -6.0698, -6.1289, -6.1354, -6.1543, -6.2061, -6.2755, -6.2996, -6.2994, -5.241, -6.1003, -4.1719, -5.5613, -5.2792, -5.7023, -5.7291, -5.4184, -5.4714, -4.6712, -5.2273, -4.4739, -5.087, -5.4339, -4.5379, -5.0318, -4.9905, -5.1889, -5.3486, -4.5585, -5.1443, -5.4131, -5.0549, -4.3615, -5.0199, -4.1299, -5.5332, -5.4998, -5.3044, -4.6869, -5.3297, -5.1179, -5.0336, -4.8913, -5.1592, -4.9651, -5.0347, -5.1415, -4.9991, -5.1163, -5.2377, -5.2209, -5.3283, -5.6532, -5.7701, -5.7701, -5.7998, -5.3738, -5.0978, -5.0701, -5.778, -5.7493, -4.7701, -3.8449, -5.9216, -5.7141, -5.581, -5.9101, -4.5865, -4.4843, -5.7204, -5.314, -5.4481, -5.0957, -5.9448, -5.9493, -4.5825, -6.0123, -6.1668, -5.1541, -5.7293, -2.9016, -4.9346, -4.3212, -3.7525, -3.4782, -4.4841, -4.0705, -3.9715, -4.5427, -4.8095, -4.2487, -4.9652, -4.7854, -4.2882, -4.5724, -5.0821, -4.1139, -4.5445, -4.6283, -4.549, -4.3636, -4.6603, -4.5985, -4.4899, -4.6992, -4.7258, -4.6509, -4.8565, -3.8365, -5.1011, -5.412, -5.4644, -4.3142, -5.2736, -5.3137, -5.7185, -5.4269, -5.412, -4.7552, -5.6049, -4.2355, -5.4239, -5.4509, -4.4555, -5.7952, -5.5778, -5.5442, -5.5599, -5.7476, -5.7783, -5.5978, -5.8932, -5.4509, -5.2159, -5.5029, -5.7279, -3.9872, -5.1731, -3.7249, -4.8625, -4.7222, -4.2713, -4.5808, -5.0084, -4.949, -5.0781, -4.3662, -3.7142, -4.8541, -3.9616, -4.8628, -4.7113, -4.8096, -4.8419, -4.9215, -5.2392, -4.6156, -5.1836, -4.7035, -4.8149, -4.9395, -4.8685, -5.0384, -4.9324, -4.9589], \"loglift\": [30.0, 29.0, 28.0, 27.0, 26.0, 25.0, 24.0, 23.0, 22.0, 21.0, 20.0, 19.0, 18.0, 17.0, 16.0, 15.0, 14.0, 13.0, 12.0, 11.0, 10.0, 9.0, 8.0, 7.0, 6.0, 5.0, 4.0, 3.0, 2.0, 1.0, 1.0262, 1.0257, 1.0243, 1.0238, 1.0227, 1.0224, 1.0202, 1.0196, 1.0193, 1.0185, 1.0179, 1.0178, 1.0174, 1.0171, 1.017, 1.0165, 1.0162, 1.0159, 1.0152, 1.0149, 1.0146, 1.0144, 1.014, 1.0139, 1.0138, 1.0134, 1.0134, 1.0128, 1.0128, 1.0124, 1.0119, 1.0101, 1.0043, 1.0109, 0.987, 0.941, 0.9925, 0.9335, 0.9561, 0.9661, 0.848, 0.9537, 0.8524, 0.9652, 0.9769, 0.871, 0.8493, 0.8544, 0.8318, 0.7098, 0.8712, 0.7348, 0.6392, 0.6588, 0.6866, 0.6752, 0.5981, 0.8726, 0.4128, 0.6968, 0.7066, 0.4192, 0.5608, 0.4277, 0.6637, 0.2828, 0.5875, 0.6, 0.3792, 0.2338, 0.3235, 0.1928, -0.2033, 1.5726, 1.5692, 1.5678, 1.5662, 1.5653, 1.5649, 1.56, 1.5595, 1.559, 1.5587, 1.5586, 1.5586, 1.554, 1.5533, 1.5522, 1.5463, 1.543, 1.5341, 1.5319, 1.5255, 1.5207, 1.5202, 1.5198, 1.5154, 1.5105, 1.5086, 1.4985, 1.4921, 1.4865, 1.4731, 1.4542, 1.3428, 1.47, 1.3083, 1.0534, 1.1849, 1.0946, 1.2903, 1.3463, 1.3215, 1.3341, 1.2495, 1.3349, 1.3648, 0.9277, 0.7626, 0.7379, 1.0223, 1.2082, 1.1096, 0.9177, 0.1221, 1.2329, 0.9706, 0.0195, 0.57, 0.3357, 0.9403, -0.449, 0.261, 0.2762, -0.348, -0.2036, -0.2029, -0.6566, -0.5611, 0.3654, -0.3532, 1.9309, 1.9282, 1.9267, 1.9253, 1.9251, 1.9249, 1.9247, 1.9245, 1.9238, 1.9214, 1.9197, 1.9189, 1.9155, 1.9151, 1.9144, 1.9141, 1.9134, 1.9098, 1.9097, 1.9033, 1.9032, 1.8958, 1.8926, 1.8637, 1.8533, 1.8299, 1.8195, 1.8189, 1.8179, 1.8157, 1.8038, 1.787, 1.7566, 1.5886, 1.2977, 1.5681, 1.6354, 1.7599, 1.5286, 1.5844, 1.38, 0.9142, 1.3499, 0.2338, 0.8348, 0.3259, 0.1847, 1.2458, 0.3696, 1.016, 0.7281, 0.0867, 1.1754, 0.2156, 0.1486, -0.1655, -0.1785, 0.5926, 0.6527, -0.4875, -0.1897, 1.9964, 1.9929, 1.9924, 1.9917, 1.9915, 1.9906, 1.9902, 1.9901, 1.9901, 1.9898, 1.9895, 1.988, 1.9875, 1.9873, 1.9869, 1.9866, 1.9866, 1.9857, 1.985, 1.9848, 1.9844, 1.9837, 1.9835, 1.9831, 1.9815, 1.9802, 1.9796, 1.9771, 1.9698, 1.966, 1.9531, 1.9644, 1.9557, 1.9572, 1.9564, 1.9209, 1.9167, 1.8108, 1.8625, 1.6971, 1.8066, 1.8775, 1.5953, 1.7141, 1.6867, 1.7514, 1.7962, 1.3807, 1.6644, 1.7845, 1.5524, 0.7506, 1.3339, 0.3608, 1.7642, 1.6483, 1.328, 0.2422, 1.3193, 0.8514, 0.6467, -0.1479, 0.4764, -0.2636, -0.016, 0.2696, -0.8727, -0.9219, -0.4566, 2.4923, 2.4885, 2.4849, 2.483, 2.483, 2.4822, 2.4689, 2.386, 2.3797, 2.3767, 2.3449, 2.241, 2.2393, 2.2077, 2.1684, 2.1528, 2.1462, 2.0992, 2.0981, 2.0854, 2.0779, 2.0397, 2.019, 1.9846, 1.9534, 1.9225, 1.8828, 1.8732, 1.859, 1.8528, 1.8417, 1.8521, 1.7299, 1.5966, 1.4258, 1.5557, 1.3686, 1.2227, 1.4917, 1.5629, 1.1323, 1.6665, 1.5068, 1.051, 1.1629, 1.7129, 0.5266, 1.0222, 1.0068, 0.8621, 0.3649, 0.9506, 0.6017, -0.0192, 0.398, 0.1402, -0.5245, 0.7792, 2.56, 2.55, 2.5451, 2.5442, 2.5414, 2.536, 2.5032, 2.4977, 2.4969, 2.4909, 2.4858, 2.4856, 2.4677, 2.4346, 2.4329, 2.4269, 2.4238, 2.4046, 2.3988, 2.3703, 2.3567, 2.3519, 2.3283, 2.3283, 2.3273, 2.3237, 2.3077, 2.3067, 2.2579, 2.213, 2.125, 2.1706, 2.0981, 1.923, 2.0128, 2.1279, 2.1039, 2.1153, 1.724, 1.1898, 1.9038, 0.9675, 1.6103, 1.3965, 1.4165, 1.339, 1.4361, 2.0629, 0.0858, 1.7982, -0.577, -0.0338, 0.362, -0.3778, 0.9592, -0.2039, -0.7644]}, \"token.table\": {\"Topic\": [3, 6, 3, 6, 4, 6, 1, 2, 3, 4, 5, 6, 1, 3, 5, 3, 5, 5, 2, 3, 3, 3, 4, 4, 2, 3, 6, 1, 2, 3, 5, 6, 2, 1, 3, 3, 3, 5, 6, 5, 3, 6, 4, 3, 6, 1, 3, 5, 1, 2, 3, 4, 4, 1, 2, 3, 4, 6, 1, 3, 4, 6, 1, 2, 3, 4, 5, 6, 2, 6, 4, 1, 2, 3, 4, 5, 6, 1, 2, 3, 4, 5, 1, 1, 2, 1, 2, 3, 4, 5, 6, 4, 5, 3, 6, 1, 1, 2, 3, 4, 5, 6, 1, 2, 2, 1, 2, 3, 4, 2, 3, 1, 3, 5, 6, 3, 5, 6, 4, 2, 3, 1, 2, 3, 4, 5, 6, 2, 3, 4, 6, 3, 1, 2, 3, 4, 5, 6, 2, 3, 2, 3, 4, 1, 2, 3, 4, 2, 6, 2, 1, 2, 3, 6, 2, 3, 4, 3, 6, 2, 3, 4, 1, 2, 3, 4, 5, 6, 1, 2, 3, 4, 5, 6, 1, 2, 3, 4, 5, 5, 1, 2, 3, 4, 5, 1, 1, 2, 5, 6, 3, 2, 3, 1, 3, 5, 1, 2, 3, 1, 2, 3, 4, 5, 1, 2, 4, 6, 1, 2, 3, 5, 1, 2, 6, 1, 4, 5, 3, 2, 4, 1, 2, 1, 3, 4, 6, 1, 2, 3, 4, 5, 6, 1, 2, 3, 4, 5, 6, 1, 3, 6, 4, 2, 3, 4, 1, 2, 3, 4, 2, 5, 6, 1, 2, 3, 4, 5, 3, 4, 1, 4, 5, 1, 4, 5, 6, 2, 6, 1, 2, 3, 4, 5, 6, 2, 4, 2, 3, 5, 6, 1, 2, 4, 1, 3, 4, 1, 1, 2, 3, 4, 5, 1, 2, 3, 4, 5, 1, 2, 3, 4, 6, 1, 2, 3, 1, 2, 3, 4, 6, 1, 3, 1, 5, 1, 2, 3, 1, 3, 5, 3, 3, 1, 1, 2, 3, 4, 5, 6, 4, 1, 2, 3, 4, 5, 6, 2, 1, 2, 3, 4, 5, 6, 3, 2, 3, 4, 3, 1, 2, 3, 4, 5, 6, 5, 4, 4, 4, 5, 2, 3, 4, 5, 1, 4, 5, 1, 2, 3, 4, 5, 6, 1, 2, 3, 4, 5, 6, 3, 1, 1, 2, 3, 4, 6, 3, 6, 2, 3, 3, 4, 6, 4, 1, 2, 3, 1, 2, 3, 4, 3, 4, 6, 2, 3, 6, 1, 2, 3, 4, 5, 2, 1, 2, 3, 4, 5, 6, 2, 6, 4, 6, 4, 1, 4, 6, 3, 6, 1, 1, 2, 3, 4, 1, 3, 4, 6, 1, 1, 2, 2, 4, 5, 1, 2, 3, 1, 6, 1, 4, 5, 3, 4, 4, 1, 4, 6, 1, 1, 3, 3, 4, 2, 3, 4, 6, 2, 3, 4, 1, 2, 3, 4, 5, 1, 2, 3, 4, 1, 2, 3, 4, 6, 2, 3, 5, 1, 2, 3, 4, 5, 1, 2, 4, 5, 1, 2, 3, 4, 5, 6, 2, 1, 5, 6, 1, 3, 6, 1, 2, 3, 4, 5, 6, 1, 2, 3, 4, 5, 6, 2, 3, 4, 6, 2, 3, 4, 2, 3, 4, 5, 1, 2, 3, 4, 5, 6, 2, 3, 4, 1, 2, 3, 4, 3, 4, 2, 3, 1, 3, 6, 1, 2, 3, 1, 2, 3, 4, 6, 3, 1, 2, 3, 4, 6, 4, 1, 2, 3, 4, 5, 6, 2, 3, 4, 5, 6, 1, 2, 3, 4, 5, 1, 1, 2, 3, 4, 5, 6, 2, 4, 2, 2, 4, 1, 2, 3, 5, 1, 3, 4, 5, 4, 4, 6, 6, 6, 3, 6, 2, 4, 2, 3, 4, 5, 2, 3, 4, 1, 2, 3, 4, 1, 2, 3, 4, 5, 6, 4, 6, 3, 6, 2, 1, 2, 1, 2, 3, 4, 4, 6, 2, 3, 4, 1, 2, 3, 4, 6, 1, 2, 3, 6, 2, 5, 2, 4, 1, 2, 3, 6, 1, 4, 5, 1, 3, 4, 5, 6, 1, 2, 3, 4, 6, 2, 2, 5, 6, 3, 5, 6, 1, 2, 3, 4, 5, 6, 1, 2, 3, 4, 5, 1, 2, 3, 4, 1, 4, 5, 1, 2, 3, 4, 5, 6, 4, 1, 3, 4, 5, 6, 4, 2, 3, 6, 2, 6, 1, 2, 3, 4, 5, 1, 3, 4, 5, 1, 2, 3, 4, 5, 6, 3, 4, 6, 2, 3, 5, 1, 2, 3, 4, 6, 1, 2, 4, 5, 6, 2, 3, 4, 5, 1, 2, 3, 4, 5, 6, 1, 2, 3, 5, 1, 3, 4, 5, 2, 3, 6, 1, 3, 4, 5, 3, 5, 4, 1, 2, 3, 4, 5, 6, 1, 2, 3, 4, 2, 4, 6, 2, 3, 4, 6, 1, 1, 2, 4, 5, 1, 2, 3, 4, 5, 6, 2, 1, 2, 3, 4, 5, 3, 6, 1, 2, 3, 4, 6, 2, 3, 6, 1, 2, 4, 5, 1, 2, 3, 5, 6, 1, 2, 3, 4, 5, 6, 2, 3, 5, 6, 3, 6, 3, 6, 1, 4, 4, 3, 6, 2, 4, 5, 1, 2, 3, 4, 5, 6, 1, 2, 1, 2, 3, 4, 5, 6, 1, 2, 3, 4, 6, 1, 2, 3, 4, 5, 1, 1, 2, 3, 4, 1, 3, 1, 2, 4, 5, 2, 3, 6, 2, 3, 6, 1, 2, 3, 4, 5, 1, 2, 3, 4, 5, 2, 1, 1, 2, 3, 6, 2, 3, 6, 1, 4, 5, 6, 1, 2, 3, 4, 5, 6, 2, 3, 4, 5, 3, 6, 4, 1, 2, 3, 5, 4, 2, 4], \"Freq\": [0.8905172970985114, 0.1074762255118893, 0.06641811288761372, 0.929853580426592, 0.015060076631574215, 0.978904981052324, 0.10240529001244568, 0.19276289884695658, 0.018071521766902177, 0.506002609473261, 0.0783099276565761, 0.10240529001244568, 0.9235445622173931, 0.046177228110869654, 0.027706336866521793, 0.9824016503017089, 0.974712680362603, 0.9719395864879486, 0.05699949698532958, 0.9262418260116057, 0.9856741076882454, 0.029432484730458047, 0.9565557537398865, 0.9792482403988434, 0.03867204947660637, 0.08507850884853402, 0.873988318171304, 0.09625974530308662, 0.1454591706802198, 0.1668502251920168, 0.3390482140119829, 0.25348399596479476, 0.9819800930716548, 0.022336525735695834, 0.9604706066349208, 0.9821815334953896, 0.9922092078777154, 0.9699047419064766, 0.020206348789718262, 0.9747132461293619, 0.22033154089139761, 0.7834010342805249, 0.9870319906220976, 0.15747640319275316, 0.813628083162558, 0.025984450133628614, 0.10393780053451446, 0.8574868544097443, 0.03026771282533199, 0.2219632273857679, 0.04035695043377598, 0.6961573949826357, 0.9736792835727506, 0.8510910396758803, 0.03374369760829481, 0.05811414588095217, 0.052490196279569704, 0.003749299734254979, 0.8336843323725519, 0.13255232062827185, 0.03313808015706796, 0.0017441094819509455, 0.7251109130804357, 0.16892298842518205, 0.013477898012647503, 0.03683958790123651, 0.049418959379707514, 0.0062896857392355015, 0.9720647470650472, 0.01567846366233947, 0.9844471387378856, 0.2845072617189597, 0.2887963159157279, 0.08292171447085257, 0.06004675875475531, 0.2759291533254232, 0.007148423661280394, 0.7428456510579852, 0.15676937441158778, 0.055472240176407984, 0.030147956617613034, 0.014471019176454257, 0.9759452128529735, 0.9754618189224123, 0.025402651534437822, 0.24982442225552873, 0.432388423134569, 0.12054465129812225, 0.10307441197955382, 0.010482143591141066, 0.08385714872912853, 0.24221469128700368, 0.7535568173373448, 0.9848112913806504, 0.9944144681100409, 0.9807895338433859, 0.3338525297067835, 0.07511681918402628, 0.1168483853973742, 0.03004672767361051, 0.40229229829667407, 0.043400828861881846, 0.9579474483662884, 0.03810018260547738, 0.9786696470774485, 0.3143010545235355, 0.5230353426422194, 0.02999055863774194, 0.13195845800606454, 0.10832835728188128, 0.8801679029152855, 0.12305996374700104, 0.07383597824820062, 0.5414638404868046, 0.24611992749400208, 0.025887250091173833, 0.025887250091173833, 0.931941003282258, 0.992124872124295, 0.10384893730919209, 0.8827159671281328, 0.15328068779168028, 0.07842267747481317, 0.20318602800292504, 0.05703467452713685, 0.19962136084497897, 0.3101260427413066, 0.19678198559165505, 0.3478007187201345, 0.12813710689689167, 0.3249190924885467, 0.9708293345915409, 0.006973577119799104, 0.28591666191176324, 0.29753929044476174, 0.2556978277259671, 0.025569782772596715, 0.12784891386298355, 0.9753160229613894, 0.014135014825527382, 0.9580521339591714, 0.01064502371065746, 0.02129004742131492, 0.979547767014466, 0.06122220447258763, 0.7040553514347578, 0.22958326677220361, 0.795148929607576, 0.2004577133464477, 0.9736111050698261, 0.9378746552221177, 0.0629915813208885, 0.10263764205269962, 0.8826837216532168, 0.08480138081465143, 0.10600172601831429, 0.8056131177391885, 0.20891065635486616, 0.7908760562005648, 0.026988775070759724, 0.22265739433376772, 0.7489385082135823, 0.4726173489090799, 0.14574726628034498, 0.12239940323543536, 0.19315050337152517, 0.013442709025857062, 0.053063325102067356, 0.47060366242133456, 0.03253020707981575, 0.05638569227168064, 0.12144610643131214, 0.21036200578280853, 0.10843402359938584, 0.45024507816861453, 0.06335784034109246, 0.3599264547036529, 0.08223038852780086, 0.04448529215438407, 0.9763392919882834, 0.4195975474896509, 0.0166506963289544, 0.07326306384739936, 0.10323431723951727, 0.38629615483174207, 0.9930080997903854, 0.9857871387859433, 0.9316327335292495, 0.020702949633983322, 0.041405899267966645, 0.9758050384301291, 0.030465443526948858, 0.959661471098889, 0.012873756623697179, 0.33471767221612664, 0.643687831184859, 0.9862822289012069, 0.9157692258287867, 0.06389087622061303, 0.05288584406503017, 0.24680060563680745, 0.10577168813006034, 0.07051445875337356, 0.52004413330613, 0.1939919793836153, 0.007184888125319085, 0.7113039244065894, 0.07903376937850994, 0.8374328666439735, 0.09177346483769573, 0.05735841552355983, 0.011471683104711966, 0.36345263484016144, 0.0072690526968032295, 0.6251385319250777, 0.23507687101412444, 0.09530143419491531, 0.6671100393644072, 0.9935749360614444, 0.02526781752353828, 0.9601770658944546, 0.9365196450649049, 0.06095689997463879, 0.9878228926787246, 0.4056050055223403, 0.017383071665243156, 0.5736413649530241, 0.019035068095746656, 0.574859056491549, 0.06471923152553863, 0.04949117704894131, 0.21699977629151188, 0.0723332587638373, 0.4319773853273867, 0.0671672154015144, 0.11853038012031952, 0.28447291228876687, 0.07506924074286904, 0.0223890718005048, 0.9913962781649478, 0.8988884599600273, 0.09987649555111415, 0.9791387889881871, 0.6891888217251871, 0.1467716935155491, 0.15953444947342296, 0.8323511493268837, 0.10734687441715761, 0.015413910172720067, 0.045140736934394486, 0.05521035443091927, 0.8833656708947083, 0.05521035443091927, 0.2685022897718636, 0.007306184755696968, 0.33243140638421204, 0.07123530136804544, 0.31964558306174234, 0.9700872875714891, 0.023660665550524124, 0.1484779349829256, 0.2916530865736039, 0.5567922561859711, 0.07037885719146793, 0.1055682857872019, 0.7653700719572137, 0.06158150004253444, 0.9365837247061554, 0.027546580138416335, 0.14362336513610963, 0.5923806195723789, 0.1730845682409526, 0.05366147708382117, 0.0015782787377594462, 0.035774318055880786, 0.9468379952224368, 0.04581474170431146, 0.09932404834826887, 0.7416195610004076, 0.12581046124114056, 0.03310801611608962, 0.09194064069689735, 0.8859734467155562, 0.016716480126708608, 0.023465351643805334, 0.1564356776253689, 0.8212873075331867, 0.9791281401961525, 0.016343870286785574, 0.5311757843205311, 0.13892289743767738, 0.2574159570168728, 0.05720354600374951, 0.35442709130782857, 0.04637363811504299, 0.029811624502527636, 0.20536896879519037, 0.3610518967528347, 0.6421525060688784, 0.14047086070256715, 0.11438341514351896, 0.01605381265172196, 0.08829596958447078, 0.026813567505900856, 0.9518816464594804, 0.013406783752950428, 0.675161099943343, 0.2335535822121607, 0.01564751047078992, 0.04636299398752569, 0.028976871242203557, 0.9910961401592511, 0.9868608715504031, 0.608451383695058, 0.3901520322930143, 0.9129893377380556, 0.07187899482191874, 0.013871384965633442, 0.17287292573506574, 0.4642872862598908, 0.3605635308188514, 0.9761609246491013, 0.9803008540106951, 0.9913515464793915, 0.007312824918908368, 0.13528726099980481, 0.10603596132417133, 0.6618106551612073, 0.043876949513450204, 0.043876949513450204, 0.966549535611222, 0.573274683085422, 0.11332173967967642, 0.026663938748159158, 0.05777186728767818, 0.22219948956799299, 0.0066659846870397894, 0.9868946241106581, 0.18456942666482526, 0.060185682608095196, 0.12839612289726976, 0.09629709217295232, 0.21265607854860302, 0.3169779284026347, 0.9926395966214228, 0.9204014715898422, 0.015088548714587579, 0.060354194858350314, 0.9788321528291989, 0.06062844702915819, 0.15830761168724639, 0.21219956460205366, 0.016841235285877276, 0.4580815997758619, 0.09431091760091274, 0.9774162019853022, 0.9831846015225428, 0.9772749041782889, 0.9819990444889896, 0.9843961455759265, 0.13018117856661388, 0.6913069482502945, 0.10773614777926667, 0.06733509236204166, 0.2406412870007656, 0.0916728712383869, 0.664628316478305, 0.25574572774555765, 0.10328192851262906, 0.5016550813470554, 0.06393643193638941, 0.014754561216089866, 0.06393643193638941, 0.2591860498184441, 0.4426973405658096, 0.08891784190851731, 0.08513410395496339, 0.04918859339620107, 0.07472882458269009, 0.9946258980560015, 0.9740031708715361, 0.018986417978685485, 0.1291076422550613, 0.09493208989342743, 0.7328757339772597, 0.018986417978685485, 0.04382791478923283, 0.9423001679685058, 0.9310819774894428, 0.030034902499659445, 0.047144019090666366, 0.950133307827276, 0.003626463006974336, 0.9815413396817705, 0.6484606009474954, 0.2984265049343145, 0.051607591078866415, 0.014720335333423304, 0.07360167666711652, 0.8611396170052632, 0.04416100600026991, 0.1761142647000169, 0.039136503266670425, 0.7827300653334085, 0.05887662940553539, 0.05887662940553539, 0.8831494410830308, 0.1926218590214911, 0.03611659856652958, 0.030097165472107983, 0.30699108781550144, 0.433399182798355, 0.9827079508753164, 0.5465312521047289, 0.06551195632782464, 0.1570492103749221, 0.051153171379260336, 0.11756255176637023, 0.06281968414996883, 0.9648401552952837, 0.032706445942213, 0.9666723411479189, 0.032222411371597294, 0.9767338738580089, 0.9927706113661978, 0.910589491219174, 0.07695122461007103, 0.981513535268007, 0.01609038582406569, 0.9787289815082224, 0.6923639703397757, 0.1849310930549238, 0.0924655465274619, 0.029318344020902554, 0.9894929117310659, 0.8425286740492373, 0.038296757911328964, 0.1148902737339869, 0.975207930204305, 0.02721413494969479, 0.9524947232393176, 0.7821641463386101, 0.04190165069671126, 0.1745902112362969, 0.8505895229812765, 0.03844472420254357, 0.10572299155699483, 0.9768032944170495, 0.016013168760935236, 0.35257782613226346, 0.04407222826653293, 0.5949750815981946, 0.1809886338231619, 0.8144488522042286, 0.9734462801028279, 0.9926281205267106, 0.9496480096954005, 0.03453265489801457, 0.9916041786559938, 0.9913596181573683, 0.9895366719855421, 0.979920873426266, 0.9923579368822879, 0.35070678162583896, 0.1800087905690147, 0.3165671834144741, 0.15207639203244344, 0.9364187569843169, 0.03327376293852903, 0.02852036823302488, 0.02927337232498781, 0.24394476937489842, 0.06830453542497156, 0.039031163099983744, 0.6147408188247441, 0.9781545295788827, 0.08198581821021166, 0.12883485718747545, 0.7847214028691687, 0.4918121756071912, 0.26898465267836674, 0.06843988204242467, 0.058890131059760764, 0.10982213630063493, 0.2788993768286597, 0.15017658752312443, 0.5792525518749085, 0.5204241561998032, 0.11201182169863315, 0.03791169349799891, 0.07582338699599782, 0.25331904291844726, 0.012058975800712239, 0.7657449633452272, 0.07838334270462956, 0.1416929656583688, 0.30393146740437493, 0.36471776088524993, 0.1278608242183922, 0.13624514056058187, 0.008384316342189653, 0.05659413530978016, 0.9903464417648503, 0.9253575227614991, 0.00787538317243829, 0.06300306537950633, 0.027639956494784616, 0.9121185643278924, 0.027639956494784616, 0.016223260484014932, 0.10274731639876124, 0.5569986099511793, 0.2217178932815374, 0.0486697814520448, 0.05407753494671644, 0.18790976645375745, 0.06519318427987504, 0.14189104813855155, 0.04601871831520591, 0.26077273711950016, 0.29528677585590457, 0.11960455037947905, 0.20503637207910694, 0.20503637207910694, 0.4613318371779906, 0.2861231896145968, 0.7049411918040791, 0.004146712892965172, 0.26895405437164893, 0.16866610189408493, 0.5105568489766895, 0.05470251953321673, 0.33399999971204475, 0.2062941174692041, 0.10314705873460205, 0.09332352933130662, 0.260323529187329, 0.002455882350823858, 0.8057087855634701, 0.18087340084077902, 0.9899549209523362, 0.8192971178608047, 0.03458072250711189, 0.02660055577470145, 0.11704244540868639, 0.0175591862959188, 0.9833144325714528, 0.15457916443405262, 0.8308630088330328, 0.9921286937366011, 0.03938279432630163, 0.9451870638312391, 0.8508916836444503, 0.11371363514142424, 0.03529043849216614, 0.9822522458368516, 0.017157244468765966, 0.09502887613956505, 0.8790171042909767, 0.011878609517445632, 0.9655298785295113, 0.5272348805515584, 0.10870822279413575, 0.27720596812504616, 0.06522493367648145, 0.02174164455882715, 0.9691823117108326, 0.039151798004847166, 0.021081737387225397, 0.17768892940661404, 0.5360784649894458, 0.18973563648502856, 0.039151798004847166, 0.5440804162985566, 0.07170051997732917, 0.29101975755504195, 0.02108838822862623, 0.07170051997732917, 0.11392693722563953, 0.6758638573250778, 0.10315006478537633, 0.015395532057518856, 0.09083363913936125, 0.9849709920003056, 0.6242691704360003, 0.142402414454295, 0.02301453162897697, 0.05753632907244242, 0.14815604736153923, 0.0043152246804331815, 0.04401034184276494, 0.9462223496194462, 0.9866242237118982, 0.9956346915010453, 0.9892904200884992, 0.013640446853600682, 0.06820223426800341, 0.040921340560802044, 0.8729885986304436, 0.04205608176079555, 0.1682243270431822, 0.06308412264119331, 0.7149533899335243, 0.9882132394282606, 0.019548658207317087, 0.9774329103658543, 0.9779408044315585, 0.9741568287552745, 0.26172878000543576, 0.7361121937652881, 0.990007967016568, 0.9895790591149085, 0.27580866957768, 0.5703162320080841, 0.08414501783725832, 0.06544612498453425, 0.11401917562335931, 0.057009587811679655, 0.8240476783688241, 0.05775160435825989, 0.7507708566573786, 0.16087946928372399, 0.028875802179129946, 0.5386805893259367, 0.1317211660030575, 0.1818538485863107, 0.05603064524010654, 0.048166695030968786, 0.043251726150257686, 0.9160754201987474, 0.07328603361589979, 0.0587093520037104, 0.9393496320593664, 0.9767926088456347, 0.9607067990112512, 0.03625308675514156, 0.005873826690741285, 0.12922418719630827, 0.2232054142481688, 0.6343732826000588, 0.8660276807522529, 0.12371824010746471, 0.15749112904065887, 0.11339361290927438, 0.7244591935870308, 0.0061243951241088685, 0.25722459521257246, 0.03062197562054434, 0.5022004001769272, 0.20822943421970153, 0.9915051544304545, 0.01894370752087353, 0.18943707520873526, 0.7956357158766881, 0.9281906783107139, 0.06187937855404759, 0.8998151035298536, 0.08180137304816851, 0.19940328806574703, 0.09970164403287352, 0.039880657613149406, 0.6480606862136779, 0.7158477011621248, 0.05809778444214346, 0.22616637514977275, 0.9065090683528768, 0.0018022049072621805, 0.05226394231060323, 0.03784630305250579, 0.9843028447182981, 0.9827635107539331, 0.04202843267903575, 0.3992701104508396, 0.12608529803710725, 0.4307914349601164, 0.9644754313152064, 0.9726147183890332, 0.16162304903250801, 0.8081152451625401, 0.3295346250411754, 0.058845468757352755, 0.6002237813249981, 0.03081872823258767, 0.03595518293801895, 0.4263257405507961, 0.02568227352715639, 0.09759263940319429, 0.3852341029073459, 0.029340032953453395, 0.7745768699711696, 0.05868006590690679, 0.035208039544144074, 0.09975611204174155, 0.01306871747516449, 0.9017415057863498, 0.06534358737582245, 0.01306871747516449, 0.9497228675927957, 0.018089959382719917, 0.027134939074079874, 0.2895427967078968, 0.057031156927313004, 0.20838307338825907, 0.171093470781939, 0.07128894615914126, 0.20289930829909436, 0.984096748055762, 0.05570453822333179, 0.03133380275062413, 0.09051987461291415, 0.7624558669318539, 0.059186071862290024, 0.9831326882030825, 0.025596582053532647, 0.25596582053532646, 0.7039060064721478, 0.13401782987876287, 0.8487795892321649, 0.5500928044826261, 0.01486737309412503, 0.26017902914718805, 0.022301059641187546, 0.1511516264569378, 0.02129385548748337, 0.27682012133728384, 0.17035084389986696, 0.5323463871870843, 0.00708685211661959, 0.22677926773182688, 0.16299759868225058, 0.10630278174929385, 0.45355853546365377, 0.04252111269971754, 0.9732984518603263, 0.9589099195628561, 0.03364596208992478, 0.05842467557476789, 0.2726484860155835, 0.6621463231807028, 0.7215472552078345, 0.1679072229099992, 0.07260852882594561, 0.029497214835540405, 0.006807049577432401, 0.6886477036340793, 0.16864841721650922, 0.060900817328183886, 0.0740179164450235, 0.007495485209622632, 0.7867283766036827, 0.08247958786974093, 0.09516875523431646, 0.038067502093726585, 0.0391955223320876, 0.5160743773724867, 0.2057764922434599, 0.17964614402206816, 0.006532587055347933, 0.052260696442783465, 0.015570565573526807, 0.3736935737646434, 0.09342339344116085, 0.5138286639263847, 0.2905647645131234, 0.07924493577630638, 0.11567938900679207, 0.5137257905498482, 0.17706643971292466, 0.02951107328548744, 0.796798978708161, 0.9895442870996348, 0.18029165734728583, 0.7785321567269161, 0.040975376669837686, 0.9669838133117211, 0.016389556157825783, 0.9871183661736538, 0.2934592356289952, 0.11338197740211178, 0.16006867397945193, 0.2156480746667616, 0.17785408219939103, 0.04001716849486298, 0.08731201893849552, 0.16435203564893275, 0.6625441437097601, 0.08217601782446637, 0.021054343641560704, 0.10527171820780352, 0.8842824329455495, 0.3459215964138231, 0.11660278530803025, 0.011660278530803026, 0.5285992933964039, 0.9806153804947769, 0.8356250566164993, 0.044381745745606604, 0.03952749230468088, 0.07974844938663687, 0.7006611956071063, 0.12715703179536372, 0.0025950414652115045, 0.031140497582538056, 0.12066942813233496, 0.018165290256480532, 0.990151492179645, 0.38659664704080776, 0.01405805989239301, 0.035145149730982525, 0.04217417967717903, 0.5201482160185413, 0.15438684409786738, 0.8160447473744419, 0.309680666774871, 0.06385168387110741, 0.17239954645199004, 0.2522141512908743, 0.20113280419398838, 0.0633341085385889, 0.29555917318008146, 0.6333410853858888, 0.16308265541371247, 0.05436088513790416, 0.07248118018387222, 0.706691506792754, 0.021215786210986624, 0.7071928736995542, 0.028287714947982167, 0.2050859333728707, 0.03535964368497771, 0.27495081468112753, 0.6179002179393082, 0.06898407536802482, 0.004927433954858917, 0.00886938111874605, 0.024637169774294584, 0.7203347604449821, 0.07161222764657717, 0.004212483979210422, 0.20219923100210024, 0.19768682396385875, 0.790747295855435, 0.13942217697344172, 0.859770091336224, 0.9807529506020314, 0.9886973997504249, 0.9835734553869268, 0.0905210606054367, 0.9052106060543671, 0.07055833349631006, 0.028223333398524026, 0.8890350020535068, 0.6484666639105181, 0.11752944605729287, 0.03698479071732993, 0.05013493852793612, 0.13807655201136507, 0.00904072661979176, 0.9825244897170459, 0.010796972414473032, 0.7080480716606253, 0.06648886340140962, 0.17847010702483634, 0.005832356438720142, 0.018663540603904457, 0.02216295446713654, 0.25065610098875923, 0.04131693972342185, 0.02479016383405311, 0.0358080144269656, 0.6445442596853809, 0.541952876431921, 0.2109892877712059, 0.19926766067280557, 0.03240685138969503, 0.015169164480282778, 0.9710590675897873, 0.0745501240087823, 0.02982004960351292, 0.8871464757045093, 0.00745501240087823, 0.08797562704304136, 0.8797562704304136, 0.07085066682935527, 0.2834026673174211, 0.014170133365871055, 0.6234858680983264, 0.2868371319757585, 0.19122475465050567, 0.5190386197656582, 0.7923242769001132, 0.13697809532849414, 0.0698319701674676, 0.29037012572748644, 0.004118725187623921, 0.5271968240158619, 0.08443386634629038, 0.09370099801844421, 0.3999697599575665, 0.2727066545165226, 0.0165276760313044, 0.07933284495026112, 0.23304023204139204, 0.9883936009160809, 0.9865471473683558, 0.996739244185716, 0.17085475029876354, 0.15287003974099894, 0.6744266459161719, 0.045863604285479594, 0.31187250914126124, 0.6329177391396184, 0.05003648747027012, 0.02501824373513506, 0.7005108245837817, 0.20014594988108048, 0.33920143663651714, 0.07281287383296965, 0.1456257476659393, 0.17581645145034136, 0.19357568897057786, 0.07281287383296965, 0.6272894176886511, 0.015054946024527626, 0.03512820739056446, 0.32117218185658936, 0.06437638297890602, 0.9227281560309863, 0.9854199307347321, 0.32148250718048804, 0.004286433429073174, 0.30433677346419535, 0.36863327490029296, 0.9838134390380682, 0.9925793299089499, 0.9698918279717895], \"Term\": [\"adidas\", \"adidas\", \"airjordan\", \"airjordan\", \"aj\", \"aj\", \"app\", \"app\", \"app\", \"app\", \"app\", \"app\", \"cnbc\", \"cnbc\", \"cnbc\", \"dior\", \"encrypt\", \"extra\", \"gap\", \"gap\", \"gucci\", \"iphone\", \"iphone\", \"mixer\", \"nba\", \"nba\", \"nba\", \"nike\", \"nike\", \"nike\", \"nike\", \"nike\", \"nikeapp\", \"nike\\u96c6\\u56e2\", \"nike\\u96c6\\u56e2\", \"puma\", \"rmb\", \"type\", \"type\", \"web\", \"yeezyboostv\", \"yeezyboostv\", \"youtube\", \"\\u4e07\\u53cc\", \"\\u4e07\\u53cc\", \"\\u4e0a\\u5468\\u4e94\", \"\\u4e0a\\u5468\\u4e94\", \"\\u4e0a\\u5468\\u4e94\", \"\\u4e0a\\u6d77\", \"\\u4e0a\\u6d77\", \"\\u4e0a\\u6d77\", \"\\u4e0a\\u6d77\", \"\\u4e0a\\u8c03\", \"\\u4e0b\\u6ed1\", \"\\u4e0b\\u6ed1\", \"\\u4e0b\\u6ed1\", \"\\u4e0b\\u6ed1\", \"\\u4e0b\\u6ed1\", \"\\u4e0b\\u8dcc\", \"\\u4e0b\\u8dcc\", \"\\u4e0b\\u8dcc\", \"\\u4e0b\\u8dcc\", \"\\u4e0b\\u964d\", \"\\u4e0b\\u964d\", \"\\u4e0b\\u964d\", \"\\u4e0b\\u964d\", \"\\u4e0b\\u964d\", \"\\u4e0b\\u964d\", \"\\u4e13\\u4e1a\", \"\\u4e13\\u4e1a\", \"\\u4e1a\\u4e3b\", \"\\u4e1a\\u52a1\", \"\\u4e1a\\u52a1\", \"\\u4e1a\\u52a1\", \"\\u4e1a\\u52a1\", \"\\u4e1a\\u52a1\", \"\\u4e1a\\u52a1\", \"\\u4e1a\\u7ee9\", \"\\u4e1a\\u7ee9\", \"\\u4e1a\\u7ee9\", \"\\u4e1a\\u7ee9\", \"\\u4e1a\\u7ee9\", \"\\u4e1a\\u7ee9\\u9884\\u671f\", \"\\u4e2d\\u4e1c\", \"\\u4e2d\\u4e1c\", \"\\u4e2d\\u56fd\", \"\\u4e2d\\u56fd\", \"\\u4e2d\\u56fd\", \"\\u4e2d\\u56fd\", \"\\u4e2d\\u56fd\", \"\\u4e2d\\u56fd\", \"\\u4e2d\\u8bf4\", \"\\u4e2d\\u8bf4\", \"\\u4e39\\u683c\\u6717\", \"\\u4e54\\u4e39\", \"\\u4e70\\u5165\", \"\\u4e8f\\u635f\", \"\\u4e8f\\u635f\", \"\\u4e8f\\u635f\", \"\\u4e8f\\u635f\", \"\\u4e8f\\u635f\", \"\\u4e8f\\u635f\", \"\\u4e9a\\u592a\", \"\\u4e9a\\u592a\", \"\\u4e9a\\u745f\\u58eb\", \"\\u4ea7\\u54c1\", \"\\u4ea7\\u54c1\", \"\\u4ea7\\u54c1\", \"\\u4ea7\\u54c1\", \"\\u4eac\\u4e1c\", \"\\u4eac\\u4e1c\", \"\\u4eae\\u70b9\", \"\\u4eae\\u70b9\", \"\\u4eae\\u70b9\", \"\\u4eae\\u70b9\", \"\\u4eba\\u6c14\", \"\\u4eba\\u6c14\", \"\\u4eba\\u6c14\", \"\\u4ec7\\u6068\", \"\\u4ee3\\u5de5\", \"\\u4ee3\\u5de5\", \"\\u4ee3\\u8868\", \"\\u4ee3\\u8868\", \"\\u4ee3\\u8868\", \"\\u4ee3\\u8868\", \"\\u4ee3\\u8868\", \"\\u4ee3\\u8868\", \"\\u4ef7\\u683c\", \"\\u4ef7\\u683c\", \"\\u4ef7\\u683c\", \"\\u4ef7\\u683c\", \"\\u4efb\\u547d\", \"\\u4f01\\u4e1a\", \"\\u4f01\\u4e1a\", \"\\u4f01\\u4e1a\", \"\\u4f01\\u4e1a\", \"\\u4f01\\u4e1a\", \"\\u4f01\\u4e1a\", \"\\u4f11\\u95f2\", \"\\u4f11\\u95f2\", \"\\u4f18\\u52bf\", \"\\u4f18\\u52bf\", \"\\u4f18\\u52bf\", \"\\u4f18\\u5f02\", \"\\u4f4d\\u4e8e\", \"\\u4f4d\\u4e8e\", \"\\u4f4d\\u4e8e\", \"\\u4f53\\u80b2\", \"\\u4f53\\u80b2\", \"\\u4f5c\\u7528\", \"\\u4fc3\\u9500\", \"\\u4fc3\\u9500\", \"\\u4ff1\\u4e50\\u90e8\", \"\\u4ff1\\u4e50\\u90e8\", \"\\u505c\\u6b62\", \"\\u505c\\u6b62\", \"\\u505c\\u6b62\", \"\\u5165\\u624b\", \"\\u5165\\u624b\", \"\\u5168\\u56fd\", \"\\u5168\\u56fd\", \"\\u5168\\u56fd\", \"\\u5168\\u7403\", \"\\u5168\\u7403\", \"\\u5168\\u7403\", \"\\u5168\\u7403\", \"\\u5168\\u7403\", \"\\u5168\\u7403\", \"\\u516c\\u5e03\", \"\\u516c\\u5e03\", \"\\u516c\\u5e03\", \"\\u516c\\u5e03\", \"\\u516c\\u5e03\", \"\\u516c\\u5e03\", \"\\u5173\\u95ed\", \"\\u5173\\u95ed\", \"\\u5173\\u95ed\", \"\\u5173\\u95ed\", \"\\u5173\\u95ed\", \"\\u518d\\u6295\\u8d44\", \"\\u51c0\\u4e8f\\u635f\", \"\\u51c0\\u4e8f\\u635f\", \"\\u51c0\\u4e8f\\u635f\", \"\\u51c0\\u4e8f\\u635f\", \"\\u51c0\\u4e8f\\u635f\", \"\\u51fa\\u8d27\\u91cf\", \"\\u5206\\u79d2\", \"\\u521b\\u65b0\", \"\\u521b\\u65b0\", \"\\u521b\\u65b0\", \"\\u5236\\u9020\\u4e1a\", \"\\u5236\\u978b\", \"\\u5236\\u978b\", \"\\u524a\\u51cf\", \"\\u524a\\u51cf\", \"\\u524a\\u51cf\", \"\\u5254\\u9664\", \"\\u529f\\u80fd\\u6027\", \"\\u529f\\u80fd\\u6027\", \"\\u52a0\\u901f\", \"\\u52a0\\u901f\", \"\\u52a0\\u901f\", \"\\u52a0\\u901f\", \"\\u52a0\\u901f\", \"\\u5317\\u4eac\", \"\\u5317\\u4eac\", \"\\u5317\\u4eac\", \"\\u5317\\u4eac\", \"\\u5317\\u7f8e\", \"\\u5317\\u7f8e\", \"\\u5317\\u7f8e\", \"\\u5317\\u7f8e\", \"\\u5321\\u5a01\", \"\\u5321\\u5a01\", \"\\u5321\\u5a01\", \"\\u5355\\u5b63\", \"\\u5355\\u5b63\", \"\\u5355\\u5b63\", \"\\u5370\\u5c3c\", \"\\u53cb\\u597d\", \"\\u53cb\\u597d\", \"\\u53cc\\u4f4d\\u6570\", \"\\u53cc\\u4f4d\\u6570\", \"\\u53cc\\u91cd\", \"\\u53d1\\u552e\", \"\\u53d1\\u552e\", \"\\u53d1\\u552e\", \"\\u53d1\\u5c55\", \"\\u53d1\\u5c55\", \"\\u53d1\\u5c55\", \"\\u53d1\\u5c55\", \"\\u53d1\\u5c55\", \"\\u53d1\\u5c55\", \"\\u53d1\\u5e03\", \"\\u53d1\\u5e03\", \"\\u53d1\\u5e03\", \"\\u53d1\\u5e03\", \"\\u53d1\\u5e03\", \"\\u53d1\\u5e03\", \"\\u53d1\\u9001\", \"\\u53e3\\u7f69\", \"\\u53e3\\u7f69\", \"\\u53ef\\u53e3\\u53ef\\u4e50\", \"\\u5408\\u4f5c\\u4f19\\u4f34\", \"\\u5408\\u4f5c\\u4f19\\u4f34\", \"\\u5408\\u4f5c\\u4f19\\u4f34\", \"\\u540c\\u6bd4\", \"\\u540c\\u6bd4\", \"\\u540c\\u6bd4\", \"\\u540c\\u6bd4\", \"\\u544a\\u8bc9\", \"\\u544a\\u8bc9\", \"\\u544a\\u8bc9\", \"\\u5458\\u5de5\", \"\\u5458\\u5de5\", \"\\u5458\\u5de5\", \"\\u5458\\u5de5\", \"\\u5458\\u5de5\", \"\\u5468\\u4e00\", \"\\u5468\\u4e00\", \"\\u5468\\u4e94\", \"\\u5468\\u4e94\", \"\\u5468\\u4e94\", \"\\u5468\\u56db\", \"\\u5468\\u56db\", \"\\u5468\\u56db\", \"\\u5468\\u56db\", \"\\u5468\\u671f\", \"\\u5468\\u671f\", \"\\u54c1\\u724c\", \"\\u54c1\\u724c\", \"\\u54c1\\u724c\", \"\\u54c1\\u724c\", \"\\u54c1\\u724c\", \"\\u54c1\\u724c\", \"\\u54c1\\u7c7b\", \"\\u54c1\\u7c7b\", \"\\u5546\\u4e1a\", \"\\u5546\\u4e1a\", \"\\u5546\\u4e1a\", \"\\u5546\\u4e1a\", \"\\u56db\\u5b63\\u5ea6\", \"\\u56db\\u5b63\\u5ea6\", \"\\u56db\\u5b63\\u5ea6\", \"\\u56de\\u5e94\", \"\\u56de\\u5e94\", \"\\u56de\\u5e94\", \"\\u56e0\\u53d7\", \"\\u56fd\\u9645\", \"\\u56fd\\u9645\", \"\\u56fd\\u9645\", \"\\u56fd\\u9645\", \"\\u56fd\\u9645\", \"\\u5728\\u7ebf\", \"\\u5728\\u7ebf\", \"\\u5728\\u7ebf\", \"\\u5728\\u7ebf\", \"\\u5728\\u7ebf\", \"\\u5730\\u533a\", \"\\u5730\\u533a\", \"\\u5730\\u533a\", \"\\u5730\\u533a\", \"\\u5730\\u533a\", \"\\u589e\\u901f\", \"\\u589e\\u901f\", \"\\u589e\\u901f\", \"\\u589e\\u957f\", \"\\u589e\\u957f\", \"\\u589e\\u957f\", \"\\u589e\\u957f\", \"\\u589e\\u957f\", \"\\u589e\\u957f\\u6001\\u52bf\", \"\\u590f\\u5929\", \"\\u591a\\u7eb3\", \"\\u591a\\u7eb3\", \"\\u5927\\u4e2d\\u534e\\u533a\", \"\\u5927\\u4e2d\\u534e\\u533a\", \"\\u5927\\u4e2d\\u534e\\u533a\", \"\\u5927\\u8dcc\", \"\\u5927\\u8dcc\", \"\\u5927\\u8dcc\", \"\\u5962\\u4f88\", \"\\u5962\\u4f88\\u54c1\", \"\\u5a31\\u4e50\\u6d3b\\u52a8\", \"\\u5a92\\u4f53\", \"\\u5a92\\u4f53\", \"\\u5a92\\u4f53\", \"\\u5a92\\u4f53\", \"\\u5a92\\u4f53\", \"\\u5a92\\u4f53\", \"\\u5b57\\u773c\", \"\\u5b63\\u5ea6\", \"\\u5b63\\u5ea6\", \"\\u5b63\\u5ea6\", \"\\u5b63\\u5ea6\", \"\\u5b63\\u5ea6\", \"\\u5b63\\u5ea6\", \"\\u5b89\\u8e0f\", \"\\u5b8c\\u6574\", \"\\u5b8c\\u6574\", \"\\u5b8c\\u6574\", \"\\u5b8c\\u6574\", \"\\u5b8c\\u6574\", \"\\u5b8c\\u6574\", \"\\u5b9d\\u6210\", \"\\u5b9e\\u529b\", \"\\u5b9e\\u529b\", \"\\u5b9e\\u529b\", \"\\u5b9e\\u6218\", \"\\u5bfc\\u81f4\", \"\\u5bfc\\u81f4\", \"\\u5bfc\\u81f4\", \"\\u5bfc\\u81f4\", \"\\u5bfc\\u81f4\", \"\\u5bfc\\u81f4\", \"\\u5c01\\u7535\\u5b50\\u90ae\\u4ef6\", \"\\u5c0f\\u7c73\", \"\\u5c0f\\u7c73\\u96c6\\u56e2\", \"\\u5c0f\\u9e4f\", \"\\u5de5\\u4f5c\\u5c97\\u4f4d\", \"\\u5de5\\u5382\", \"\\u5de5\\u5382\", \"\\u5de5\\u5382\", \"\\u5de5\\u5382\", \"\\u5de8\\u4e8f\", \"\\u5de8\\u4e8f\", \"\\u5de8\\u4e8f\", \"\\u5e02\\u503c\", \"\\u5e02\\u503c\", \"\\u5e02\\u503c\", \"\\u5e02\\u503c\", \"\\u5e02\\u503c\", \"\\u5e02\\u503c\", \"\\u5e02\\u573a\", \"\\u5e02\\u573a\", \"\\u5e02\\u573a\", \"\\u5e02\\u573a\", \"\\u5e02\\u573a\", \"\\u5e02\\u573a\", \"\\u5e02\\u573a\\u4ef7\\u683c\", \"\\u5e02\\u573a\\u524d\\u666f\", \"\\u5e73\\u53f0\", \"\\u5e73\\u53f0\", \"\\u5e73\\u53f0\", \"\\u5e73\\u53f0\", \"\\u5e73\\u53f0\", \"\\u5e74\\u4ee3\", \"\\u5e74\\u4ee3\", \"\\u5e74\\u8f7b\\u4eba\", \"\\u5e74\\u8f7b\\u4eba\", \"\\u5e7f\\u544a\", \"\\u5e7f\\u544a\", \"\\u5e7f\\u544a\", \"\\u5e7f\\u544a\\u4e3b\", \"\\u5e93\\u5b58\", \"\\u5e93\\u5b58\", \"\\u5e93\\u5b58\", \"\\u5ef6\\u4f38\", \"\\u5ef6\\u4f38\", \"\\u5ef6\\u4f38\", \"\\u5ef6\\u4f38\", \"\\u5ef6\\u671f\", \"\\u5ef6\\u671f\", \"\\u5ef6\\u671f\", \"\\u5f53\\u4e2d\", \"\\u5f53\\u4e2d\", \"\\u5f53\\u4e2d\", \"\\u5f53\\u5730\", \"\\u5f53\\u5730\", \"\\u5f53\\u5730\", \"\\u5f53\\u5730\", \"\\u5f53\\u5730\", \"\\u5f6a\\u9a6c\", \"\\u5f71\\u54cd\", \"\\u5f71\\u54cd\", \"\\u5f71\\u54cd\", \"\\u5f71\\u54cd\", \"\\u5f71\\u54cd\", \"\\u5f71\\u54cd\", \"\\u5f97\\u76ca\\u4e8e\", \"\\u5f97\\u76ca\\u4e8e\", \"\\u5fae\\u535a\", \"\\u5fae\\u535a\", \"\\u5fae\\u535a\\u7fa4\", \"\\u5fae\\u6da8\", \"\\u5fae\\u8f6f\", \"\\u5fae\\u8f6f\", \"\\u5feb\\u8baf\", \"\\u5feb\\u8baf\", \"\\u603b\\u5e02\\u503c\", \"\\u6062\\u590d\", \"\\u6062\\u590d\", \"\\u6062\\u590d\", \"\\u6062\\u590d\", \"\\u6062\\u590d\\u6b63\\u5e38\", \"\\u610f\\u5927\\u5229\", \"\\u610f\\u5927\\u5229\", \"\\u610f\\u5927\\u5229\", \"\\u6210\\u672c\\u4e0a\\u5347\", \"\\u6210\\u957f\", \"\\u6210\\u957f\", \"\\u6218\\u7565\", \"\\u6218\\u7565\", \"\\u6218\\u7565\", \"\\u6253\\u51fb\", \"\\u6253\\u51fb\", \"\\u6253\\u51fb\", \"\\u6253\\u6298\", \"\\u6253\\u6298\", \"\\u625b\\u4e0d\\u4f4f\", \"\\u625b\\u4e0d\\u4f4f\", \"\\u625b\\u4e0d\\u4f4f\", \"\\u6295\\u653e\", \"\\u6295\\u653e\", \"\\u62a4\\u80a4\\u54c1\", \"\\u62a5\\u544a\\u671f\", \"\\u62b5\\u5236\", \"\\u62b5\\u5236\", \"\\u62c9\\u4e01\\u7f8e\\u6d32\", \"\\u62c9\\u7f8e\\u5730\\u533a\", \"\\u62d6\\u978b\", \"\\u6307\\u6570\", \"\\u63a2\\u63a2\", \"\\u63a8\\u51fa\", \"\\u63a8\\u51fa\", \"\\u63a8\\u51fa\", \"\\u63a8\\u51fa\", \"\\u63d0\\u5347\", \"\\u63d0\\u5347\", \"\\u63d0\\u5347\", \"\\u63d0\\u9ad8\", \"\\u63d0\\u9ad8\", \"\\u63d0\\u9ad8\", \"\\u63d0\\u9ad8\", \"\\u63d0\\u9ad8\", \"\\u644a\\u8584\\u540e\", \"\\u652f\\u4ed8\", \"\\u652f\\u4ed8\", \"\\u652f\\u4ed8\", \"\\u6536\\u5165\", \"\\u6536\\u5165\", \"\\u6536\\u5165\", \"\\u6536\\u5165\", \"\\u6536\\u5165\", \"\\u6548\\u7387\", \"\\u6548\\u7387\", \"\\u6548\\u7387\", \"\\u6570\\u5b57\", \"\\u6570\\u5b57\", \"\\u6570\\u5b57\", \"\\u6570\\u5b57\", \"\\u6570\\u5b57\", \"\\u6570\\u5b57\\u5316\", \"\\u6570\\u5b57\\u5316\", \"\\u6570\\u5b57\\u5316\", \"\\u6570\\u5b57\\u5316\", \"\\u6570\\u636e\", \"\\u6570\\u636e\", \"\\u6570\\u636e\", \"\\u6570\\u636e\", \"\\u6570\\u636e\", \"\\u6570\\u636e\", \"\\u65af\\u51ef\\u5947\", \"\\u65b0\\u51a0\\u75ab\\u60c5\", \"\\u65b0\\u51a0\\u75ab\\u60c5\", \"\\u65b0\\u51a0\\u75ab\\u60c5\", \"\\u65b0\\u897f\\u5170\", \"\\u65b0\\u897f\\u5170\", \"\\u65b0\\u897f\\u5170\", \"\\u65d7\\u4e0b\", \"\\u65d7\\u4e0b\", \"\\u65d7\\u4e0b\", \"\\u65d7\\u4e0b\", \"\\u65d7\\u4e0b\", \"\\u65d7\\u4e0b\", \"\\u65e0\\u5173\", \"\\u65e0\\u5173\", \"\\u65e0\\u5173\", \"\\u65e0\\u5173\", \"\\u65e0\\u5173\", \"\\u65e0\\u5173\", \"\\u65e5\\u672c\", \"\\u65e5\\u672c\", \"\\u65e5\\u672c\", \"\\u65e5\\u672c\", \"\\u65f6\\u5c1a\", \"\\u65f6\\u5c1a\", \"\\u65f6\\u5c1a\", \"\\u670d\\u52a1\", \"\\u670d\\u52a1\", \"\\u670d\\u52a1\", \"\\u670d\\u52a1\", \"\\u672a\\u6765\", \"\\u672a\\u6765\", \"\\u672a\\u6765\", \"\\u672a\\u6765\", \"\\u672a\\u6765\", \"\\u672a\\u6765\", \"\\u674e\\u5b81\", \"\\u674e\\u5b81\", \"\\u68c0\\u6d4b\", \"\\u6b27\\u6d32\", \"\\u6b27\\u6d32\", \"\\u6b27\\u6d32\", \"\\u6b27\\u6d32\", \"\\u6b27\\u83b1\\u96c5\", \"\\u6b27\\u83b1\\u96c5\", \"\\u6bcd\\u516c\\u53f8\", \"\\u6bcd\\u516c\\u53f8\", \"\\u6bcf\\u7ecf\", \"\\u6bd4\\u8d5b\", \"\\u6bd4\\u8d5b\", \"\\u6bdb\\u5229\\u7387\", \"\\u6bdb\\u5229\\u7387\", \"\\u6bdb\\u5229\\u7387\", \"\\u6c47\\u7387\", \"\\u6c47\\u7387\", \"\\u6c7d\\u8f66\", \"\\u6c7d\\u8f66\", \"\\u6c7d\\u8f66\", \"\\u6ce2\\u53f8\\u767b\", \"\\u6d3b\\u52a8\", \"\\u6d3b\\u52a8\", \"\\u6d3b\\u52a8\", \"\\u6d3b\\u52a8\", \"\\u6d3b\\u52a8\", \"\\u6d41\\u5a92\\u4f53\", \"\\u6d88\\u606f\", \"\\u6d88\\u606f\", \"\\u6d88\\u606f\", \"\\u6d88\\u606f\", \"\\u6d88\\u606f\", \"\\u6d88\\u606f\", \"\\u6d88\\u8d39\", \"\\u6d88\\u8d39\", \"\\u6d88\\u8d39\", \"\\u6d88\\u8d39\", \"\\u6d88\\u8d39\", \"\\u6d88\\u8d39\\u8005\", \"\\u6d88\\u8d39\\u8005\", \"\\u6d88\\u8d39\\u8005\", \"\\u6d88\\u8d39\\u8005\", \"\\u6d88\\u8d39\\u8005\", \"\\u6e05\\u4ed3\", \"\\u6e20\\u9053\", \"\\u6e20\\u9053\", \"\\u6e20\\u9053\", \"\\u6e20\\u9053\", \"\\u6e20\\u9053\", \"\\u6e20\\u9053\", \"\\u6e38\\u620f\", \"\\u6e38\\u620f\", \"\\u6ed4\\u640f\", \"\\u6ed4\\u640f\\u56fd\\u9645\", \"\\u6ef4\\u6ef4\", \"\\u6f5c\\u529b\", \"\\u6f5c\\u529b\", \"\\u6f5c\\u529b\", \"\\u6f5c\\u529b\", \"\\u6f5c\\u5728\", \"\\u6f5c\\u5728\", \"\\u6f5c\\u5728\", \"\\u6f5c\\u5728\", \"\\u7279\\u65af\\u62c9\", \"\\u7403\\u5458\", \"\\u7403\\u5458\", \"\\u7403\\u8863\", \"\\u7403\\u961f\", \"\\u7403\\u978b\", \"\\u7403\\u978b\", \"\\u745c\\u4f3d\", \"\\u745e\\u5e78\\u5496\\u5561\", \"\\u751f\\u4ea7\", \"\\u751f\\u4ea7\", \"\\u751f\\u4ea7\", \"\\u751f\\u4ea7\", \"\\u7528\\u6237\", \"\\u7528\\u6237\", \"\\u7528\\u6237\", \"\\u7535\\u5546\", \"\\u7535\\u5546\", \"\\u7535\\u5546\", \"\\u7535\\u5546\", \"\\u75ab\\u60c5\", \"\\u75ab\\u60c5\", \"\\u75ab\\u60c5\", \"\\u75ab\\u60c5\", \"\\u75ab\\u60c5\", \"\\u75ab\\u60c5\", \"\\u75c5\\u4f8b\", \"\\u75c5\\u4f8b\", \"\\u767b\\u573a\", \"\\u767b\\u573a\", \"\\u767e\\u4e3d\", \"\\u767e\\u5206\\u70b9\", \"\\u767e\\u5206\\u70b9\", \"\\u76f4\\u64ad\", \"\\u76f4\\u64ad\", \"\\u76f4\\u64ad\", \"\\u76f4\\u64ad\", \"\\u786e\\u8bca\", \"\\u786e\\u8bca\", \"\\u793e\\u4ea4\", \"\\u793e\\u4ea4\", \"\\u793e\\u4ea4\", \"\\u79d1\\u6280\", \"\\u79d1\\u6280\", \"\\u79d1\\u6280\", \"\\u79d1\\u6280\", \"\\u79d1\\u6280\", \"\\u7a0e\\u524d\\u5229\\u6da6\", \"\\u7a7f\\u7740\", \"\\u7a7f\\u7740\", \"\\u7a7f\\u7740\", \"\\u7ade\\u4e89\", \"\\u7ade\\u4e89\", \"\\u7ade\\u4e89\\u5bf9\\u624b\", \"\\u7ade\\u4e89\\u5bf9\\u624b\", \"\\u7b2c\\u4e09\\u5b63\\u5ea6\", \"\\u7b2c\\u4e09\\u5b63\\u5ea6\", \"\\u7b2c\\u4e09\\u5b63\\u5ea6\", \"\\u7b2c\\u4e09\\u5b63\\u5ea6\", \"\\u7b2c\\u56db\\u5b63\\u5ea6\", \"\\u7b2c\\u56db\\u5b63\\u5ea6\", \"\\u7b2c\\u56db\\u5b63\\u5ea6\", \"\\u7b2c\\u56db\\u8d22\\u5b63\", \"\\u7b2c\\u56db\\u8d22\\u5b63\", \"\\u7b2c\\u56db\\u8d22\\u5b63\", \"\\u7b2c\\u56db\\u8d22\\u5b63\", \"\\u7bee\\u7403\", \"\\u7cbe\\u7b80\", \"\\u7cfb\\u5217\", \"\\u7cfb\\u5217\", \"\\u7cfb\\u5217\", \"\\u7cfb\\u5217\", \"\\u7ea2\\u6885\", \"\\u7eba\\u7ec7\\u7f51\", \"\\u7ec6\\u8282\", \"\\u7ec6\\u8282\", \"\\u7ecf\\u5178\", \"\\u7ecf\\u5178\", \"\\u7ecf\\u5178\", \"\\u7ecf\\u6d4e\", \"\\u7ecf\\u6d4e\", \"\\u7ecf\\u6d4e\", \"\\u7ecf\\u6d4e\", \"\\u7ecf\\u6d4e\", \"\\u7ecf\\u6d4e\", \"\\u7ecf\\u8425\", \"\\u7ecf\\u8425\", \"\\u7ecf\\u8425\", \"\\u7ecf\\u8425\", \"\\u7ecf\\u8425\", \"\\u7ecf\\u9a8c\", \"\\u7ecf\\u9a8c\", \"\\u7ecf\\u9a8c\", \"\\u7ecf\\u9a8c\", \"\\u7f55\\u89c1\", \"\\u7f55\\u89c1\", \"\\u7f55\\u89c1\", \"\\u7f8e\\u56fd\", \"\\u7f8e\\u56fd\", \"\\u7f8e\\u56fd\", \"\\u7f8e\\u56fd\", \"\\u7f8e\\u56fd\", \"\\u7f8e\\u56fd\", \"\\u7f8e\\u767d\", \"\\u8010\\u514b\\u516c\\u53f8\", \"\\u8010\\u514b\\u516c\\u53f8\", \"\\u8010\\u514b\\u516c\\u53f8\", \"\\u8010\\u514b\\u516c\\u53f8\", \"\\u8010\\u514b\\u516c\\u53f8\", \"\\u8054\\u5408\\u5229\\u534e\", \"\\u8054\\u540d\", \"\\u8054\\u540d\", \"\\u8054\\u540d\", \"\\u8054\\u8d5b\", \"\\u8054\\u8d5b\", \"\\u80a1\\u4ef7\", \"\\u80a1\\u4ef7\", \"\\u80a1\\u4ef7\", \"\\u80a1\\u4ef7\", \"\\u80a1\\u4ef7\", \"\\u80a1\\u4ef7\\u4e0b\\u8dcc\", \"\\u80a1\\u4ef7\\u4e0b\\u8dcc\", \"\\u80a1\\u4ef7\\u4e0b\\u8dcc\", \"\\u80a1\\u4ef7\\u4e0b\\u8dcc\", \"\\u80fd\\u529b\", \"\\u80fd\\u529b\", \"\\u80fd\\u529b\", \"\\u80fd\\u529b\", \"\\u80fd\\u529b\", \"\\u80fd\\u529b\", \"\\u811a\\u611f\", \"\\u81ea\\u52a8\", \"\\u81ea\\u52a8\", \"\\u8270\\u96be\", \"\\u8270\\u96be\", \"\\u8270\\u96be\", \"\\u8425\\u4e1a\", \"\\u8425\\u4e1a\", \"\\u8425\\u4e1a\", \"\\u8425\\u4e1a\", \"\\u8425\\u4e1a\", \"\\u8425\\u6536\", \"\\u8425\\u6536\", \"\\u8425\\u6536\", \"\\u8425\\u6536\", \"\\u8425\\u6536\", \"\\u8425\\u9500\", \"\\u8425\\u9500\", \"\\u8425\\u9500\", \"\\u8425\\u9500\", \"\\u884c\\u4e1a\", \"\\u884c\\u4e1a\", \"\\u884c\\u4e1a\", \"\\u884c\\u4e1a\", \"\\u884c\\u4e1a\", \"\\u884c\\u4e1a\", \"\\u88ab\\u8feb\", \"\\u88ab\\u8feb\", \"\\u88ab\\u8feb\", \"\\u88ab\\u8feb\", \"\\u88c1\\u5458\", \"\\u88c1\\u5458\", \"\\u88c1\\u5458\", \"\\u88c1\\u5458\", \"\\u88c5\\u5907\", \"\\u88c5\\u5907\", \"\\u88c5\\u5907\", \"\\u897f\\u65b9\", \"\\u89c6\\u9891\", \"\\u89c6\\u9891\", \"\\u89c6\\u9891\", \"\\u89e3\\u96c7\", \"\\u89e3\\u96c7\", \"\\u8a00\\u8bba\", \"\\u8ba1\\u5212\", \"\\u8ba1\\u5212\", \"\\u8ba1\\u5212\", \"\\u8ba1\\u5212\", \"\\u8ba1\\u5212\", \"\\u8ba1\\u5212\", \"\\u8ba2\\u5355\", \"\\u8ba2\\u5355\", \"\\u8ba2\\u5355\", \"\\u8ba2\\u5355\", \"\\u8bad\\u7ec3\", \"\\u8bad\\u7ec3\", \"\\u8bad\\u7ec3\", \"\\u8bbe\\u8ba1\", \"\\u8bbe\\u8ba1\", \"\\u8bbe\\u8ba1\", \"\\u8bbe\\u8ba1\", \"\\u8d22\\u5b63\", \"\\u8d22\\u5e74\", \"\\u8d22\\u5e74\", \"\\u8d22\\u5e74\", \"\\u8d22\\u5e74\", \"\\u8d22\\u62a5\", \"\\u8d22\\u62a5\", \"\\u8d22\\u62a5\", \"\\u8d22\\u62a5\", \"\\u8d22\\u62a5\", \"\\u8d22\\u62a5\", \"\\u8d35\\u4eba\", \"\\u8d44\\u6e90\", \"\\u8d44\\u6e90\", \"\\u8d44\\u6e90\", \"\\u8d44\\u6e90\", \"\\u8d44\\u6e90\", \"\\u8d5b\\u5b63\", \"\\u8d5b\\u5b63\", \"\\u8d85\\u8fc7\", \"\\u8d85\\u8fc7\", \"\\u8d85\\u8fc7\", \"\\u8d85\\u8fc7\", \"\\u8d85\\u8fc7\", \"\\u8dd1\\u978b\", \"\\u8dd1\\u978b\", \"\\u8dd1\\u978b\", \"\\u8f6c\\u5411\", \"\\u8f6c\\u5411\", \"\\u8f6c\\u5411\", \"\\u8f6c\\u5411\", \"\\u8f6c\\u578b\", \"\\u8f6c\\u578b\", \"\\u8f6c\\u578b\", \"\\u8f6c\\u578b\", \"\\u8f6c\\u578b\", \"\\u8fd0\\u52a8\", \"\\u8fd0\\u52a8\", \"\\u8fd0\\u52a8\", \"\\u8fd0\\u52a8\", \"\\u8fd0\\u52a8\", \"\\u8fd0\\u52a8\", \"\\u8fd0\\u52a8\\u978b\", \"\\u8fd0\\u52a8\\u978b\", \"\\u8fd0\\u52a8\\u978b\", \"\\u8fd0\\u52a8\\u978b\", \"\\u8fd9\\u53cc\", \"\\u8fd9\\u53cc\", \"\\u8fd9\\u53cc\\u978b\", \"\\u8fd9\\u53cc\\u978b\", \"\\u8fd9\\u79cd\\u505a\\u6cd5\", \"\\u8fdd\\u89c4\", \"\\u9020\\u8f66\", \"\\u914d\\u8272\", \"\\u914d\\u8272\", \"\\u91cd\\u7ec4\", \"\\u91cd\\u7ec4\", \"\\u91cd\\u7ec4\", \"\\u9500\\u552e\", \"\\u9500\\u552e\", \"\\u9500\\u552e\", \"\\u9500\\u552e\", \"\\u9500\\u552e\", \"\\u9500\\u552e\", \"\\u9500\\u552e\\u6570\\u636e\", \"\\u9500\\u552e\\u6570\\u636e\", \"\\u9500\\u552e\\u989d\", \"\\u9500\\u552e\\u989d\", \"\\u9500\\u552e\\u989d\", \"\\u9500\\u552e\\u989d\", \"\\u9500\\u552e\\u989d\", \"\\u9500\\u552e\\u989d\", \"\\u9500\\u91cf\", \"\\u9500\\u91cf\", \"\\u9500\\u91cf\", \"\\u9500\\u91cf\", \"\\u9500\\u91cf\", \"\\u95e8\\u5e97\", \"\\u95e8\\u5e97\", \"\\u95e8\\u5e97\", \"\\u95e8\\u5e97\", \"\\u95e8\\u5e97\", \"\\u95ea\\u5149\\u70b9\", \"\\u9605\\u8bfb\", \"\\u9605\\u8bfb\", \"\\u9605\\u8bfb\", \"\\u9605\\u8bfb\", \"\\u9632\\u62a4\", \"\\u9632\\u62a4\", \"\\u9636\\u6bb5\", \"\\u9636\\u6bb5\", \"\\u9636\\u6bb5\", \"\\u9636\\u6bb5\", \"\\u963f\\u8fea\", \"\\u963f\\u8fea\", \"\\u963f\\u8fea\", \"\\u963f\\u8fea\\u8fbe\\u65af\", \"\\u963f\\u8fea\\u8fbe\\u65af\", \"\\u963f\\u8fea\\u8fbe\\u65af\", \"\\u96c6\\u56e2\", \"\\u96c6\\u56e2\", \"\\u96c6\\u56e2\", \"\\u96c6\\u56e2\", \"\\u96c6\\u56e2\", \"\\u96f6\\u552e\", \"\\u96f6\\u552e\", \"\\u96f6\\u552e\", \"\\u96f6\\u552e\", \"\\u96f6\\u552e\", \"\\u9732\\u9732\\u67e0\\u6aac\", \"\\u975e\\u6d32\", \"\\u975e\\u6d32\\u5730\\u533a\", \"\\u978b\\u5b50\", \"\\u978b\\u5b50\", \"\\u978b\\u5b50\", \"\\u978b\\u6b3e\", \"\\u978b\\u6b3e\", \"\\u978b\\u6b3e\", \"\\u9884\\u8b66\", \"\\u9884\\u8b66\", \"\\u9884\\u8b66\", \"\\u9884\\u8b66\", \"\\u9884\\u8ba1\", \"\\u9884\\u8ba1\", \"\\u9884\\u8ba1\", \"\\u9884\\u8ba1\", \"\\u9884\\u8ba1\", \"\\u9884\\u8ba1\", \"\\u9886\\u57df\", \"\\u9886\\u57df\", \"\\u9886\\u57df\", \"\\u9886\\u57df\", \"\\u989c\\u503c\", \"\\u989c\\u503c\", \"\\u98de\\u673a\", \"\\u9996\\u5e2d\\u6267\\u884c\\u5b98\", \"\\u9996\\u5e2d\\u6267\\u884c\\u5b98\", \"\\u9996\\u5e2d\\u6267\\u884c\\u5b98\", \"\\u9996\\u5e2d\\u6267\\u884c\\u5b98\", \"\\u9a7e\\u9a76\", \"\\u9b3c\\u51a2\\u864e\", \"\\u9ea6\\u5f53\\u52b3\"]}, \"R\": 30, \"lambda.step\": 0.01, \"plot.opts\": {\"xlab\": \"PC1\", \"ylab\": \"PC2\"}, \"topic.order\": [6, 1, 2, 5, 4, 3]};\n",
       "\n",
       "function LDAvis_load_lib(url, callback){\n",
       "  var s = document.createElement('script');\n",
       "  s.src = url;\n",
       "  s.async = true;\n",
       "  s.onreadystatechange = s.onload = callback;\n",
       "  s.onerror = function(){console.warn(\"failed to load library \" + url);};\n",
       "  document.getElementsByTagName(\"head\")[0].appendChild(s);\n",
       "}\n",
       "\n",
       "if(typeof(LDAvis) !== \"undefined\"){\n",
       "   // already loaded: just create the visualization\n",
       "   !function(LDAvis){\n",
       "       new LDAvis(\"#\" + \"ldavis_el5724855562363606577786044\", ldavis_el5724855562363606577786044_data);\n",
       "   }(LDAvis);\n",
       "}else if(typeof define === \"function\" && define.amd){\n",
       "   // require.js is available: use it to load d3/LDAvis\n",
       "   require.config({paths: {d3: \"/nbextensions/d3.v5.min\"}});\n",
       "   require([\"d3\"], function(d3){\n",
       "      window.d3 = d3;\n",
       "      LDAvis_load_lib(\"/nbextensions/ldavis.v3.0.0.js\", function(){\n",
       "        new LDAvis(\"#\" + \"ldavis_el5724855562363606577786044\", ldavis_el5724855562363606577786044_data);\n",
       "      });\n",
       "    });\n",
       "}else{\n",
       "    // require.js not available: dynamically load d3 & LDAvis\n",
       "    LDAvis_load_lib(\"/nbextensions/d3.v5.min.js\", function(){\n",
       "         LDAvis_load_lib(\"/nbextensions/ldavis.v3.0.0.js\", function(){\n",
       "                 new LDAvis(\"#\" + \"ldavis_el5724855562363606577786044\", ldavis_el5724855562363606577786044_data);\n",
       "            })\n",
       "         });\n",
       "}\n",
       "</script>"
      ],
      "text/plain": [
       "PreparedData(topic_coordinates=              x         y  topics  cluster       Freq\n",
       "topic                                                \n",
       "5      0.179377 -0.052201       1        1  35.638529\n",
       "0     -0.035288 -0.112906       2        1  20.665632\n",
       "1     -0.078959 -0.044498       3        1  14.402777\n",
       "4     -0.017969 -0.111309       4        1  13.453695\n",
       "3      0.188192  0.178006       5        1   8.139007\n",
       "2     -0.235353  0.142907       6        1   7.700360, topic_info=     Term         Freq        Total Category  logprob  loglift\n",
       "848    裁员  1097.000000  1097.000000  Default  30.0000  30.0000\n",
       "20   nike   934.000000   934.000000  Default  29.0000  29.0000\n",
       "297    品牌  1900.000000  1900.000000  Default  28.0000  28.0000\n",
       "958    集团   971.000000   971.000000  Default  27.0000  27.0000\n",
       "870    财年  1442.000000  1442.000000  Default  26.0000  26.0000\n",
       "..    ...          ...          ...      ...      ...      ...\n",
       "540    收入    69.480922   628.288634   Topic6  -4.9395   0.3620\n",
       "181    全球    74.592325  1413.405584   Topic6  -4.8685  -0.3778\n",
       "886    超过    62.942379   313.225882   Topic6  -5.0384   0.9592\n",
       "440    影响    69.979436  1114.300413   Topic6  -4.9324  -0.2039\n",
       "297    品牌    68.148936  1900.804926   Topic6  -4.9589  -0.7644\n",
       "\n",
       "[416 rows x 6 columns], token_table=      Topic      Freq       Term\n",
       "term                            \n",
       "0         3  0.890517     adidas\n",
       "0         6  0.107476     adidas\n",
       "1         3  0.066418  airjordan\n",
       "1         6  0.929854  airjordan\n",
       "3         4  0.015060         aj\n",
       "...     ...       ...        ...\n",
       "988       3  0.304337      首席执行官\n",
       "988       5  0.368633      首席执行官\n",
       "992       4  0.983813         驾驶\n",
       "998       2  0.992579        鬼冢虎\n",
       "999       4  0.969892        麦当劳\n",
       "\n",
       "[936 rows x 3 columns], R=30, lambda_step=0.01, plot_opts={'xlab': 'PC1', 'ylab': 'PC2'}, topic_order=[6, 1, 2, 5, 4, 3])"
      ]
     },
     "execution_count": 230,
     "metadata": {},
     "output_type": "execute_result"
    }
   ],
   "source": [
    "import pyLDAvis\n",
    "import pyLDAvis.sklearn\n",
    "pyLDAvis.enable_notebook(local = True)\n",
    "pyLDAvis.sklearn.prepare(lda, cv_vect, cv_model)"
   ]
  },
  {
   "cell_type": "code",
   "execution_count": null,
   "metadata": {},
   "outputs": [],
   "source": []
  }
 ],
 "metadata": {
  "kernelspec": {
   "display_name": "Python 3",
   "language": "python",
   "name": "python3"
  },
  "language_info": {
   "codemirror_mode": {
    "name": "ipython",
    "version": 3
   },
   "file_extension": ".py",
   "mimetype": "text/x-python",
   "name": "python",
   "nbconvert_exporter": "python",
   "pygments_lexer": "ipython3",
   "version": "3.7.0"
  }
 },
 "nbformat": 4,
 "nbformat_minor": 2
}
